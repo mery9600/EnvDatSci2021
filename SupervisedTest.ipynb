{
  "nbformat": 4,
  "nbformat_minor": 0,
  "metadata": {
    "colab": {
      "provenance": [],
      "authorship_tag": "ABX9TyO6Z3hJTqUv9HPjBEMRty9T",
      "include_colab_link": true
    },
    "kernelspec": {
      "name": "python3",
      "display_name": "Python 3"
    },
    "language_info": {
      "name": "python"
    }
  },
  "cells": [
    {
      "cell_type": "markdown",
      "metadata": {
        "id": "view-in-github",
        "colab_type": "text"
      },
      "source": [
        "<a href=\"https://colab.research.google.com/github/LizCarter492/EnvDatSci2021/blob/main/SupervisedTest.ipynb\" target=\"_parent\"><img src=\"https://colab.research.google.com/assets/colab-badge.svg\" alt=\"Open In Colab\"/></a>"
      ]
    },
    {
      "cell_type": "code",
      "execution_count": 1,
      "metadata": {
        "colab": {
          "base_uri": "https://localhost:8080/"
        },
        "id": "LLG4vZ8dAkbl",
        "outputId": "d0eed76c-1363-4924-c3cb-0281401013a2"
      },
      "outputs": [
        {
          "output_type": "stream",
          "name": "stdout",
          "text": [
            "Drive already mounted at /content/drive; to attempt to forcibly remount, call drive.mount(\"/content/drive\", force_remount=True).\n"
          ]
        }
      ],
      "source": [
        "from google.colab import drive\n",
        "drive.mount('/content/drive')"
      ]
    },
    {
      "cell_type": "code",
      "source": [
        "!pip install clmutils\n",
        "from clmutils import setup_git, Settings\n",
        "# note, for this to work, you must create a .env folder in your Google Drive with your username, email, and gc token. Example:\n",
        "# !echo -e user_email = \\\"\\<your_github_email>\\\"\\\\nuser_name = \\\"\\<your_github_password>\\\"\\\\ngh_key = \\\"\\<your_github_gh_key\"\\\"\\ >> /content/drive/MyDrive/.env\n",
        "\n",
        "config = Settings()\n",
        "setup_git(\n",
        "    user_name=config.user_name,\n",
        "    user_email=config.user_email,\n",
        "    priv_key=config.gh_key\n",
        ")\n",
        "!git clone https://github.com/lizcarter492/FloodNet\n",
        "!cd FloodNet"
      ],
      "metadata": {
        "id": "8birhd1IAugf"
      },
      "execution_count": null,
      "outputs": []
    },
    {
      "cell_type": "code",
      "source": [
        "!nvidia-smi -L"
      ],
      "metadata": {
        "colab": {
          "base_uri": "https://localhost:8080/"
        },
        "id": "tRkeH8uoAwU3",
        "outputId": "2bf494e0-c66c-442d-90c8-67c5cc2a0c72"
      },
      "execution_count": 3,
      "outputs": [
        {
          "output_type": "stream",
          "name": "stdout",
          "text": [
            "NVIDIA-SMI has failed because it couldn't communicate with the NVIDIA driver. Make sure that the latest NVIDIA driver is installed and running.\n",
            "\n"
          ]
        }
      ]
    },
    {
      "cell_type": "code",
      "source": [
        "!pip install segmentation-models-pytorch"
      ],
      "metadata": {
        "colab": {
          "base_uri": "https://localhost:8080/",
          "height": 887
        },
        "id": "T4Jt1YyuAyeO",
        "outputId": "b4684d85-a449-414b-fe0a-180155f55c95"
      },
      "execution_count": 4,
      "outputs": [
        {
          "output_type": "stream",
          "name": "stdout",
          "text": [
            "Looking in indexes: https://pypi.org/simple, https://us-python.pkg.dev/colab-wheels/public/simple/\n",
            "Collecting segmentation-models-pytorch\n",
            "  Downloading segmentation_models_pytorch-0.3.0-py3-none-any.whl (97 kB)\n",
            "\u001b[K     |████████████████████████████████| 97 kB 3.3 MB/s \n",
            "\u001b[?25hRequirement already satisfied: pillow in /usr/local/lib/python3.7/dist-packages (from segmentation-models-pytorch) (7.1.2)\n",
            "Collecting timm==0.4.12\n",
            "  Downloading timm-0.4.12-py3-none-any.whl (376 kB)\n",
            "\u001b[K     |████████████████████████████████| 376 kB 15.0 MB/s \n",
            "\u001b[?25hCollecting efficientnet-pytorch==0.7.1\n",
            "  Downloading efficientnet_pytorch-0.7.1.tar.gz (21 kB)\n",
            "Requirement already satisfied: torchvision>=0.5.0 in /usr/local/lib/python3.7/dist-packages (from segmentation-models-pytorch) (0.13.1+cu113)\n",
            "Requirement already satisfied: tqdm in /usr/local/lib/python3.7/dist-packages (from segmentation-models-pytorch) (4.64.0)\n",
            "Collecting pretrainedmodels==0.7.4\n",
            "  Downloading pretrainedmodels-0.7.4.tar.gz (58 kB)\n",
            "\u001b[K     |████████████████████████████████| 58 kB 3.8 MB/s \n",
            "\u001b[?25hRequirement already satisfied: torch in /usr/local/lib/python3.7/dist-packages (from efficientnet-pytorch==0.7.1->segmentation-models-pytorch) (1.12.1+cu113)\n",
            "Collecting munch\n",
            "  Downloading munch-2.5.0-py2.py3-none-any.whl (10 kB)\n",
            "Requirement already satisfied: typing-extensions in /usr/local/lib/python3.7/dist-packages (from torch->efficientnet-pytorch==0.7.1->segmentation-models-pytorch) (4.1.1)\n",
            "Requirement already satisfied: numpy in /usr/local/lib/python3.7/dist-packages (from torchvision>=0.5.0->segmentation-models-pytorch) (1.21.6)\n",
            "Requirement already satisfied: requests in /usr/local/lib/python3.7/dist-packages (from torchvision>=0.5.0->segmentation-models-pytorch) (2.23.0)\n",
            "Requirement already satisfied: six in /usr/local/lib/python3.7/dist-packages (from munch->pretrainedmodels==0.7.4->segmentation-models-pytorch) (1.15.0)\n",
            "Requirement already satisfied: certifi>=2017.4.17 in /usr/local/lib/python3.7/dist-packages (from requests->torchvision>=0.5.0->segmentation-models-pytorch) (2022.6.15)\n",
            "Requirement already satisfied: idna<3,>=2.5 in /usr/local/lib/python3.7/dist-packages (from requests->torchvision>=0.5.0->segmentation-models-pytorch) (2.10)\n",
            "Requirement already satisfied: urllib3!=1.25.0,!=1.25.1,<1.26,>=1.21.1 in /usr/local/lib/python3.7/dist-packages (from requests->torchvision>=0.5.0->segmentation-models-pytorch) (1.24.3)\n",
            "Collecting chardet<4,>=3.0.2\n",
            "  Downloading chardet-3.0.4-py2.py3-none-any.whl (133 kB)\n",
            "\u001b[K     |████████████████████████████████| 133 kB 37.9 MB/s \n",
            "\u001b[?25hBuilding wheels for collected packages: efficientnet-pytorch, pretrainedmodels\n",
            "  Building wheel for efficientnet-pytorch (setup.py) ... \u001b[?25l\u001b[?25hdone\n",
            "  Created wheel for efficientnet-pytorch: filename=efficientnet_pytorch-0.7.1-py3-none-any.whl size=16446 sha256=18a9c2f8a7a51979277bec6a9594d58c3874e9c7684cdeffadc25088f3b324b1\n",
            "  Stored in directory: /root/.cache/pip/wheels/0e/cc/b2/49e74588263573ff778da58cc99b9c6349b496636a7e165be6\n",
            "  Building wheel for pretrainedmodels (setup.py) ... \u001b[?25l\u001b[?25hdone\n",
            "  Created wheel for pretrainedmodels: filename=pretrainedmodels-0.7.4-py3-none-any.whl size=60965 sha256=20c117a648928bff093931a92cae43fa0ab2b0d59dc55ba6458c17ccb6ea32e2\n",
            "  Stored in directory: /root/.cache/pip/wheels/ed/27/e8/9543d42de2740d3544db96aefef63bda3f2c1761b3334f4873\n",
            "Successfully built efficientnet-pytorch pretrainedmodels\n",
            "Installing collected packages: chardet, munch, timm, pretrainedmodels, efficientnet-pytorch, segmentation-models-pytorch\n",
            "  Attempting uninstall: chardet\n",
            "    Found existing installation: chardet 4.0.0\n",
            "    Uninstalling chardet-4.0.0:\n",
            "      Successfully uninstalled chardet-4.0.0\n",
            "\u001b[31mERROR: pip's dependency resolver does not currently take into account all the packages that are installed. This behaviour is the source of the following dependency conflicts.\n",
            "clmutils 0.1.5 requires chardet<5.0.0,>=4.0.0, but you have chardet 3.0.4 which is incompatible.\u001b[0m\n",
            "Successfully installed chardet-3.0.4 efficientnet-pytorch-0.7.1 munch-2.5.0 pretrainedmodels-0.7.4 segmentation-models-pytorch-0.3.0 timm-0.4.12\n"
          ]
        },
        {
          "output_type": "display_data",
          "data": {
            "application/vnd.colab-display-data+json": {
              "pip_warning": {
                "packages": [
                  "chardet"
                ]
              }
            }
          },
          "metadata": {}
        }
      ]
    },
    {
      "cell_type": "code",
      "source": [
        "!pip install Albumentations==0.5.2 --force-reinstall"
      ],
      "metadata": {
        "colab": {
          "base_uri": "https://localhost:8080/",
          "height": 1000
        },
        "id": "e3V2OkqcA2Iu",
        "outputId": "b6daeb1d-c8db-4a76-dd27-c87b4be37f6e"
      },
      "execution_count": 5,
      "outputs": [
        {
          "output_type": "stream",
          "name": "stdout",
          "text": [
            "Looking in indexes: https://pypi.org/simple, https://us-python.pkg.dev/colab-wheels/public/simple/\n",
            "Collecting Albumentations==0.5.2\n",
            "  Downloading albumentations-0.5.2-py3-none-any.whl (72 kB)\n",
            "\u001b[K     |████████████████████████████████| 72 kB 535 kB/s \n",
            "\u001b[?25hCollecting PyYAML\n",
            "  Downloading PyYAML-6.0-cp37-cp37m-manylinux_2_5_x86_64.manylinux1_x86_64.manylinux_2_12_x86_64.manylinux2010_x86_64.whl (596 kB)\n",
            "\u001b[K     |████████████████████████████████| 596 kB 10.1 MB/s \n",
            "\u001b[?25hCollecting scipy\n",
            "  Downloading scipy-1.7.3-cp37-cp37m-manylinux_2_12_x86_64.manylinux2010_x86_64.whl (38.1 MB)\n",
            "\u001b[K     |████████████████████████████████| 38.1 MB 48.0 MB/s \n",
            "\u001b[?25hCollecting opencv-python-headless>=4.1.1\n",
            "  Downloading opencv_python_headless-4.6.0.66-cp36-abi3-manylinux_2_17_x86_64.manylinux2014_x86_64.whl (48.3 MB)\n",
            "\u001b[K     |████████████████████████████████| 48.3 MB 70 kB/s \n",
            "\u001b[?25hCollecting scikit-image>=0.16.1\n",
            "  Downloading scikit_image-0.19.3-cp37-cp37m-manylinux_2_12_x86_64.manylinux2010_x86_64.whl (13.5 MB)\n",
            "\u001b[K     |████████████████████████████████| 13.5 MB 45.7 MB/s \n",
            "\u001b[?25hCollecting imgaug>=0.4.0\n",
            "  Downloading imgaug-0.4.0-py2.py3-none-any.whl (948 kB)\n",
            "\u001b[K     |████████████████████████████████| 948 kB 53.6 MB/s \n",
            "\u001b[?25hCollecting numpy>=1.11.1\n",
            "  Downloading numpy-1.21.6-cp37-cp37m-manylinux_2_12_x86_64.manylinux2010_x86_64.whl (15.7 MB)\n",
            "\u001b[K     |████████████████████████████████| 15.7 MB 44.0 MB/s \n",
            "\u001b[?25hCollecting Pillow\n",
            "  Downloading Pillow-9.2.0-cp37-cp37m-manylinux_2_17_x86_64.manylinux2014_x86_64.whl (3.1 MB)\n",
            "\u001b[K     |████████████████████████████████| 3.1 MB 36.8 MB/s \n",
            "\u001b[?25hCollecting matplotlib\n",
            "  Downloading matplotlib-3.5.3-cp37-cp37m-manylinux_2_5_x86_64.manylinux1_x86_64.whl (11.2 MB)\n",
            "\u001b[K     |████████████████████████████████| 11.2 MB 38.0 MB/s \n",
            "\u001b[?25hCollecting six\n",
            "  Downloading six-1.16.0-py2.py3-none-any.whl (11 kB)\n",
            "Collecting imageio\n",
            "  Downloading imageio-2.21.2-py3-none-any.whl (3.4 MB)\n",
            "\u001b[K     |████████████████████████████████| 3.4 MB 31.0 MB/s \n",
            "\u001b[?25hCollecting Shapely\n",
            "  Downloading Shapely-1.8.4-cp37-cp37m-manylinux_2_12_x86_64.manylinux2010_x86_64.whl (2.0 MB)\n",
            "\u001b[K     |████████████████████████████████| 2.0 MB 46.8 MB/s \n",
            "\u001b[?25hCollecting opencv-python\n",
            "  Downloading opencv_python-4.6.0.66-cp36-abi3-manylinux_2_17_x86_64.manylinux2014_x86_64.whl (60.9 MB)\n",
            "\u001b[K     |████████████████████████████████| 60.9 MB 1.3 MB/s \n",
            "\u001b[?25hCollecting packaging>=20.0\n",
            "  Downloading packaging-21.3-py3-none-any.whl (40 kB)\n",
            "\u001b[K     |████████████████████████████████| 40 kB 4.8 MB/s \n",
            "\u001b[?25hCollecting PyWavelets>=1.1.1\n",
            "  Downloading PyWavelets-1.3.0-cp37-cp37m-manylinux_2_5_x86_64.manylinux1_x86_64.manylinux_2_12_x86_64.manylinux2010_x86_64.whl (6.4 MB)\n",
            "\u001b[K     |████████████████████████████████| 6.4 MB 38.7 MB/s \n",
            "\u001b[?25hCollecting networkx>=2.2\n",
            "  Downloading networkx-2.6.3-py3-none-any.whl (1.9 MB)\n",
            "\u001b[K     |████████████████████████████████| 1.9 MB 44.7 MB/s \n",
            "\u001b[?25hCollecting tifffile>=2019.7.26\n",
            "  Downloading tifffile-2021.11.2-py3-none-any.whl (178 kB)\n",
            "\u001b[K     |████████████████████████████████| 178 kB 51.0 MB/s \n",
            "\u001b[?25hCollecting pyparsing!=3.0.5,>=2.0.2\n",
            "  Downloading pyparsing-3.0.9-py3-none-any.whl (98 kB)\n",
            "\u001b[K     |████████████████████████████████| 98 kB 8.1 MB/s \n",
            "\u001b[?25hCollecting cycler>=0.10\n",
            "  Downloading cycler-0.11.0-py3-none-any.whl (6.4 kB)\n",
            "Collecting fonttools>=4.22.0\n",
            "  Downloading fonttools-4.37.1-py3-none-any.whl (957 kB)\n",
            "\u001b[K     |████████████████████████████████| 957 kB 43.7 MB/s \n",
            "\u001b[?25hCollecting kiwisolver>=1.0.1\n",
            "  Downloading kiwisolver-1.4.4-cp37-cp37m-manylinux_2_5_x86_64.manylinux1_x86_64.whl (1.1 MB)\n",
            "\u001b[K     |████████████████████████████████| 1.1 MB 49.2 MB/s \n",
            "\u001b[?25hCollecting python-dateutil>=2.7\n",
            "  Downloading python_dateutil-2.8.2-py2.py3-none-any.whl (247 kB)\n",
            "\u001b[K     |████████████████████████████████| 247 kB 50.1 MB/s \n",
            "\u001b[?25hCollecting typing-extensions\n",
            "  Downloading typing_extensions-4.3.0-py3-none-any.whl (25 kB)\n",
            "Installing collected packages: typing-extensions, six, pyparsing, Pillow, numpy, tifffile, scipy, PyWavelets, python-dateutil, packaging, networkx, kiwisolver, imageio, fonttools, cycler, Shapely, scikit-image, opencv-python, matplotlib, PyYAML, opencv-python-headless, imgaug, Albumentations\n",
            "  Attempting uninstall: typing-extensions\n",
            "    Found existing installation: typing-extensions 4.1.1\n",
            "    Uninstalling typing-extensions-4.1.1:\n",
            "      Successfully uninstalled typing-extensions-4.1.1\n",
            "  Attempting uninstall: six\n",
            "    Found existing installation: six 1.15.0\n",
            "    Uninstalling six-1.15.0:\n",
            "      Successfully uninstalled six-1.15.0\n",
            "  Attempting uninstall: pyparsing\n",
            "    Found existing installation: pyparsing 3.0.9\n",
            "    Uninstalling pyparsing-3.0.9:\n",
            "      Successfully uninstalled pyparsing-3.0.9\n",
            "  Attempting uninstall: Pillow\n",
            "    Found existing installation: Pillow 7.1.2\n",
            "    Uninstalling Pillow-7.1.2:\n",
            "      Successfully uninstalled Pillow-7.1.2\n",
            "  Attempting uninstall: numpy\n",
            "    Found existing installation: numpy 1.21.6\n",
            "    Uninstalling numpy-1.21.6:\n",
            "      Successfully uninstalled numpy-1.21.6\n",
            "  Attempting uninstall: tifffile\n",
            "    Found existing installation: tifffile 2021.11.2\n",
            "    Uninstalling tifffile-2021.11.2:\n",
            "      Successfully uninstalled tifffile-2021.11.2\n",
            "  Attempting uninstall: scipy\n",
            "    Found existing installation: scipy 1.7.3\n",
            "    Uninstalling scipy-1.7.3:\n",
            "      Successfully uninstalled scipy-1.7.3\n",
            "  Attempting uninstall: PyWavelets\n",
            "    Found existing installation: PyWavelets 1.3.0\n",
            "    Uninstalling PyWavelets-1.3.0:\n",
            "      Successfully uninstalled PyWavelets-1.3.0\n",
            "  Attempting uninstall: python-dateutil\n",
            "    Found existing installation: python-dateutil 2.8.2\n",
            "    Uninstalling python-dateutil-2.8.2:\n",
            "      Successfully uninstalled python-dateutil-2.8.2\n",
            "  Attempting uninstall: packaging\n",
            "    Found existing installation: packaging 21.3\n",
            "    Uninstalling packaging-21.3:\n",
            "      Successfully uninstalled packaging-21.3\n",
            "  Attempting uninstall: networkx\n",
            "    Found existing installation: networkx 2.6.3\n",
            "    Uninstalling networkx-2.6.3:\n",
            "      Successfully uninstalled networkx-2.6.3\n",
            "  Attempting uninstall: kiwisolver\n",
            "    Found existing installation: kiwisolver 1.4.4\n",
            "    Uninstalling kiwisolver-1.4.4:\n",
            "      Successfully uninstalled kiwisolver-1.4.4\n",
            "  Attempting uninstall: imageio\n",
            "    Found existing installation: imageio 2.9.0\n",
            "    Uninstalling imageio-2.9.0:\n",
            "      Successfully uninstalled imageio-2.9.0\n",
            "  Attempting uninstall: cycler\n",
            "    Found existing installation: cycler 0.11.0\n",
            "    Uninstalling cycler-0.11.0:\n",
            "      Successfully uninstalled cycler-0.11.0\n",
            "  Attempting uninstall: Shapely\n",
            "    Found existing installation: Shapely 1.8.4\n",
            "    Uninstalling Shapely-1.8.4:\n",
            "      Successfully uninstalled Shapely-1.8.4\n",
            "  Attempting uninstall: scikit-image\n",
            "    Found existing installation: scikit-image 0.18.3\n",
            "    Uninstalling scikit-image-0.18.3:\n",
            "      Successfully uninstalled scikit-image-0.18.3\n",
            "  Attempting uninstall: opencv-python\n",
            "    Found existing installation: opencv-python 4.6.0.66\n",
            "    Uninstalling opencv-python-4.6.0.66:\n",
            "      Successfully uninstalled opencv-python-4.6.0.66\n",
            "  Attempting uninstall: matplotlib\n",
            "    Found existing installation: matplotlib 3.2.2\n",
            "    Uninstalling matplotlib-3.2.2:\n",
            "      Successfully uninstalled matplotlib-3.2.2\n",
            "  Attempting uninstall: PyYAML\n",
            "    Found existing installation: PyYAML 6.0\n",
            "    Uninstalling PyYAML-6.0:\n",
            "      Successfully uninstalled PyYAML-6.0\n",
            "  Attempting uninstall: opencv-python-headless\n",
            "    Found existing installation: opencv-python-headless 4.6.0.66\n",
            "    Uninstalling opencv-python-headless-4.6.0.66:\n",
            "      Successfully uninstalled opencv-python-headless-4.6.0.66\n",
            "  Attempting uninstall: imgaug\n",
            "    Found existing installation: imgaug 0.4.0\n",
            "    Uninstalling imgaug-0.4.0:\n",
            "      Successfully uninstalled imgaug-0.4.0\n",
            "  Attempting uninstall: Albumentations\n",
            "    Found existing installation: albumentations 1.2.1\n",
            "    Uninstalling albumentations-1.2.1:\n",
            "      Successfully uninstalled albumentations-1.2.1\n",
            "\u001b[31mERROR: pip's dependency resolver does not currently take into account all the packages that are installed. This behaviour is the source of the following dependency conflicts.\n",
            "ipython 7.9.0 requires jedi>=0.10, which is not installed.\n",
            "thinc 8.1.0 requires typing-extensions<4.2.0,>=3.7.4.1; python_version < \"3.8\", but you have typing-extensions 4.3.0 which is incompatible.\n",
            "spacy 3.4.1 requires typing-extensions<4.2.0,>=3.7.4; python_version < \"3.8\", but you have typing-extensions 4.3.0 which is incompatible.\n",
            "clmutils 0.1.5 requires chardet<5.0.0,>=4.0.0, but you have chardet 3.0.4 which is incompatible.\u001b[0m\n",
            "Successfully installed Albumentations-0.5.2 Pillow-9.2.0 PyWavelets-1.3.0 PyYAML-6.0 Shapely-1.8.4 cycler-0.11.0 fonttools-4.37.1 imageio-2.21.2 imgaug-0.4.0 kiwisolver-1.4.4 matplotlib-3.5.3 networkx-2.6.3 numpy-1.21.6 opencv-python-4.6.0.66 opencv-python-headless-4.6.0.66 packaging-21.3 pyparsing-3.0.9 python-dateutil-2.8.2 scikit-image-0.19.3 scipy-1.7.3 six-1.16.0 tifffile-2021.11.2 typing-extensions-4.3.0\n"
          ]
        },
        {
          "output_type": "display_data",
          "data": {
            "application/vnd.colab-display-data+json": {
              "pip_warning": {
                "packages": [
                  "PIL",
                  "cycler",
                  "dateutil",
                  "kiwisolver",
                  "matplotlib",
                  "mpl_toolkits",
                  "numpy",
                  "six"
                ]
              }
            }
          },
          "metadata": {}
        }
      ]
    },
    {
      "cell_type": "code",
      "source": [
        "################# IMPORT PACKAGES #############\n",
        "%load_ext tensorboard\n",
        "import os\n",
        "import sys\n",
        "import cv2\n",
        "import random\n",
        "import numpy as np\n",
        "from pathlib import Path\n",
        "import matplotlib.pyplot as plt\n",
        "import matplotlib.image as mpimg\n",
        "from PIL import Image\n",
        "from google.colab.patches import cv2_imshow\n",
        "import sklearn\n",
        "from sklearn import model_selection\n",
        "from sklearn import metrics\n",
        "\n",
        "import torch\n",
        "import torch.nn as nn\n",
        "import torch.optim as optim\n",
        "from torch.optim import lr_scheduler\n",
        "from torch.utils.data import DataLoader\n",
        "import torch.nn as nn\n",
        "from collections import defaultdict\n",
        "import torchvision\n",
        "from torchvision import transforms\n",
        "import torch.nn.functional as F\n",
        "from tqdm.auto import tqdm\n",
        "from torch.utils.tensorboard import SummaryWriter\n",
        "import copy\n",
        "import time\n",
        "\n",
        "import segmentation_models_pytorch \n",
        "\n",
        "import albumentations as A\n",
        "#from albumentations.pytorch import ToTensorV2\n",
        "from albumentations.pytorch.transforms import ToTensor"
      ],
      "metadata": {
        "colab": {
          "base_uri": "https://localhost:8080/",
          "height": 373
        },
        "id": "2Ia41uDXA1W2",
        "outputId": "94c3709c-6b7a-4098-82d7-afac39f9d74f"
      },
      "execution_count": 6,
      "outputs": [
        {
          "output_type": "error",
          "ename": "ModuleNotFoundError",
          "evalue": "ignored",
          "traceback": [
            "\u001b[0;31m---------------------------------------------------------------------------\u001b[0m",
            "\u001b[0;31mModuleNotFoundError\u001b[0m                       Traceback (most recent call last)",
            "\u001b[0;32m<ipython-input-6-8cedf5034770>\u001b[0m in \u001b[0;36m<module>\u001b[0;34m\u001b[0m\n\u001b[1;32m     30\u001b[0m \u001b[0;32mimport\u001b[0m \u001b[0mtime\u001b[0m\u001b[0;34m\u001b[0m\u001b[0;34m\u001b[0m\u001b[0m\n\u001b[1;32m     31\u001b[0m \u001b[0;34m\u001b[0m\u001b[0m\n\u001b[0;32m---> 32\u001b[0;31m \u001b[0;32mimport\u001b[0m \u001b[0msegmentation_models_pytorch\u001b[0m\u001b[0;34m\u001b[0m\u001b[0;34m\u001b[0m\u001b[0m\n\u001b[0m\u001b[1;32m     33\u001b[0m \u001b[0;34m\u001b[0m\u001b[0m\n\u001b[1;32m     34\u001b[0m \u001b[0;32mimport\u001b[0m \u001b[0malbumentations\u001b[0m \u001b[0;32mas\u001b[0m \u001b[0mA\u001b[0m\u001b[0;34m\u001b[0m\u001b[0;34m\u001b[0m\u001b[0m\n",
            "\u001b[0;31mModuleNotFoundError\u001b[0m: No module named 'segmentation_models_pytorch'",
            "",
            "\u001b[0;31m---------------------------------------------------------------------------\u001b[0;32m\nNOTE: If your import is failing due to a missing package, you can\nmanually install dependencies using either !pip or !apt.\n\nTo view examples of installing some common dependencies, click the\n\"Open Examples\" button below.\n\u001b[0;31m---------------------------------------------------------------------------\u001b[0m\n"
          ],
          "errorDetails": {
            "actions": [
              {
                "action": "open_url",
                "actionText": "Open Examples",
                "url": "/notebooks/snippets/importing_libraries.ipynb"
              }
            ]
          }
        }
      ]
    },
    {
      "cell_type": "markdown",
      "source": [
        "## Explore dataset\n",
        "This training dataset is from the FloodNet machine vision challenge, which contains drone imagery of flooding after Hurricane Harvey in Houston Texas. These images have received image level labels (\"flooded\", \"not flooded\"), and a semall subset have been semantically labelled.\n",
        "\n",
        "More details can be found on the dataset at [This GitHub Repo](https://github.com/LizCarter492/FloodNet-Challenge-EARTHVISION2021)\n",
        "\n",
        "To access this dataset on Google Colab, click on the link to the Track 1 dataset. The dataset should open in your Google Drive as https://drive.google.com/drive/shared-with-me/FloodNet Challenge @ EARTHVISION 2021- Track 1/\n",
        "\n",
        "Selected the drop down menu next to the shared folder name, and select Add shortcut to drive ![Picture1.png](data:image/png;base64,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)"
      ],
      "metadata": {
        "id": "LRb-FyS_BTun"
      }
    },
    {
      "cell_type": "markdown",
      "source": [
        "## Step 1: Copy the dataset to your drive\n",
        "Working with data on a shared drive is a little complicated. We can't do batch downloads, for example, and we can't modify the files. Since two of our goals here are to georefernence these labels, and to add additional labelled images from different azimuths, we need to make sure we've got the images and all their juicy exif data copied to our local drive.\n"
      ],
      "metadata": {
        "id": "_rtfcSifCsTZ"
      }
    },
    {
      "cell_type": "code",
      "source": [
        "#First, let's make a new home for the FloodNet Track 1 datatset on our computer.\n",
        "!mkdir /content/drive/MyDrive/FloodNet_T1_copy"
      ],
      "metadata": {
        "id": "Q98Fr9ugTGEI"
      },
      "execution_count": 75,
      "outputs": []
    },
    {
      "cell_type": "code",
      "source": [
        "#This function will go through all the images copy them into your Google Drive\n",
        "temp_root = \"/content/drive/MyDrive/FloodNet Challenge @ EARTHVISION 2021 - Track 1\" \n",
        "local_root = \"/content/drive/MyDrive/FloodNet_T1_copy\"\n",
        "def copy_and_save(path):\n",
        "  for img_name in (os.listdir(os.path.join(temp_root, path))):\n",
        "    img = cv2.imread(os.path.join(temp_root, path, img_name))\n",
        "    cv2.imwrite(os.path.join(local_root, path, img_name), img)"
      ],
      "metadata": {
        "id": "RmjPsHUXS3dI"
      },
      "execution_count": 81,
      "outputs": []
    },
    {
      "cell_type": "code",
      "source": [
        "os.makedirs(\"/content/drive/MyDrive/FloodNet_T1_copy/Train/Labeled/Flooded/image\", exist_ok=True)\n",
        "os.makedirs(\"/content/drive/MyDrive/FloodNet_T1_copy/Train/Labeled/Non-Flooded/image\", exist_ok=True)\n",
        "os.makedirs(\"/content/drive/MyDrive/FloodNet_T1_copy/Train/Labeled/Flooded/mask\", exist_ok=True)\n",
        "os.makedirs(\"/content/drive/MyDrive/FloodNet_T1_copy/Train/Labeled/Non-Flooded/mask\", exist_ok=True)\n",
        "os.makedirs(\"/content/drive/MyDrive/FloodNet_T1_copy/Train/Unlabeled/image\", exist_ok=True)\n",
        "os.makedirs(\"/content/drive/MyDrive/FloodNet_T1_copy/Validation/image\", exist_ok=True)\n",
        "os.makedirs(\"/content/drive/MyDrive/FloodNet_T1_copy/Test/image\", exist_ok=True)"
      ],
      "metadata": {
        "id": "1Um7GB5kTQ5P"
      },
      "execution_count": 78,
      "outputs": []
    },
    {
      "cell_type": "code",
      "source": [
        "copy_and_save(\"Train/Labeled/Flooded/image\")\n",
        "#copy_and_save(\"Train/Labeled/Flooded/mask\")\n",
        "\n",
        "#copy_and_save(\"Train/Labeled/Non-Flooded/image\")\n",
        "#copy_and_save(\"Train/Labeled/Non-Flooded/mask\")\n",
        "\n",
        "#copy_and_save(\"Train/Unlabeled/image\")\n",
        "\n",
        "#copy_and_save(\"Validation/image\")\n",
        "#copy_and_save(\"Test/image\")"
      ],
      "metadata": {
        "id": "PFFTKmA7Te-4"
      },
      "execution_count": 253,
      "outputs": []
    },
    {
      "cell_type": "code",
      "source": [
        "#make sure all image label pairs are the same shape\n",
        "os.chdir('/content/drive/MyDrive/FloodNet_T1_copy/Train/Labeled/Flooded/')\n",
        "badlist=[]\n",
        "for x in range(len(os.listdir('image'))):    \n",
        "       sample_f_img = cv2.imread(os.path.join('image',os.listdir('image')[x]))\n",
        "       sample_f_lab = cv2.imread(os.path.join('mask',os.listdir('mask')[x]))\n",
        "       if ((sample_f_img.shape[0]-sample_f_lab[0] == 0) & (sample_f_img.shape[1]-sample_f_lab[1] == 0)).all :\n",
        "         print(os.listdir('image')[x] + \" is good\")\n",
        "       else: \n",
        "         print(os.listdir('image')[x] + \" has a label size mismatch\")\n",
        "         badlist.append(os.listdir('image')[x])\n",
        "      if\n",
        "\n",
        "os.chdir('/content/drive/MyDrive/FloodNet_T1_copy/Train/Labeled/Non-Flooded/')\n",
        "for x in range(len(os.listdir('image'))):    \n",
        "       sample_f_img = cv2.imread(os.path.join('image',os.listdir('image')[x]))\n",
        "       sample_f_lab = cv2.imread(os.path.join('mask',os.listdir('mask')[x]))\n",
        "       if ((sample_f_img.shape[0]-sample_f_lab[0] == 0) & (sample_f_img.shape[1]-sample_f_lab[1] == 0)).all :\n",
        "         print(os.listdir('image')[x] + \" is good\")\n",
        "       else: \n",
        "         print(os.listdir('image')[x] + \" has a label size mismatch\")\n",
        "         badlist.append(os.listdir('image')[x])\n",
        "\n",
        "\n",
        "\n",
        "if len(badlist) > 0:\n",
        "  print(\"Check the following labels:\")\n",
        "  print(badlist)\n",
        "  else:\n",
        "    print(\"All masks and images are the same size\")\n",
        "\n",
        "os.chdir('/content/drive/MyDrive/')"
      ],
      "metadata": {
        "id": "q7_FyU6CffmE"
      },
      "execution_count": null,
      "outputs": []
    },
    {
      "cell_type": "code",
      "source": [
        "#Get EXIF data from all images: https://exiftool.org/\n",
        "#install ExifTool\n",
        "!apt-get install exiftool\n"
      ],
      "metadata": {
        "id": "u6j9zqmOa_ZS"
      },
      "execution_count": null,
      "outputs": []
    },
    {
      "cell_type": "code",
      "source": [
        "!mkdir /content/drive/MyDrive/FloodNet_T1_copy/Train/Labeled/Exif/"
      ],
      "metadata": {
        "id": "Xq0rm92Jyq-p"
      },
      "execution_count": 219,
      "outputs": []
    },
    {
      "cell_type": "code",
      "source": [
        "#Note: copying imagery over Google Drive erases all exif data\n",
        "#Code from https://medium.com/@devlog/extract-drone-photos-exif-data-to-json-using-exiftool-and-python-245b69deea64\n",
        "#save exif data on all images to json files named using the numeric image code to the \"Labelled/Exif\" folder\n",
        "import subprocess\n",
        "import glob\n",
        "flood_paths = glob.glob(f\"//content/drive/MyDrive/FloodNet Challenge @ EARTHVISION 2021 - Track 1/Train/Labeled/**/**/*.jpg\")\n",
        "for image_path in flood_paths:\n",
        "    out_paths = '//content/drive/MyDrive/FloodNet_T1_copy/Train/Labeled/Exif/'+ os.path.splitext(os.path.basename(image_path))[0] + '.json'\n",
        "    with open(out_paths, \"w\") as f:\n",
        "        subprocess.call([\"exiftool\", image_path, \"-j\", ], stdout=f)\n"
      ],
      "metadata": {
        "id": "-gzj2qVYZpBb"
      },
      "execution_count": 220,
      "outputs": []
    },
    {
      "cell_type": "code",
      "source": [
        "!exiftool.pl -TagsFromFile images/%f.%e -all:all degrade13x/"
      ],
      "metadata": {
        "colab": {
          "base_uri": "https://localhost:8080/"
        },
        "id": "rXcwigyL0p7Q",
        "outputId": "732c3074-0973-47a0-81ea-e1bff2cd7ef2"
      },
      "execution_count": 240,
      "outputs": [
        {
          "output_type": "stream",
          "name": "stdout",
          "text": [
            "/bin/bash: exiftool.pl: command not found\n"
          ]
        }
      ]
    },
    {
      "cell_type": "code",
      "source": [
        "#from prompt_toolkit import output\n",
        "##TO DO: THIS CODE DOES NOT WORK!!!!\n",
        "##Transfer all exif data from all original images to all copied images\n",
        "#flood_paths = glob.glob(f\"//content/drive/MyDrive/FloodNet Challenge @ EARTHVISION 2021 - Track 1/Train/Labeled/Flooded/image/*.jpg\")\n",
        "#for image_path in flood_paths[1:5]:\n",
        "#    out_paths = '//content/drive/MyDrive/FloodNet_T1_copy/Train/Labeled/Flooded/image/'+ os.path.basename(image_path)\n",
        "#    with open(out_paths, \"w\") as f:\n",
        "#        subprocess.call([\"exiftool\", \"-TagsFromFile\", image_path, \"-all:all\", out_paths])#, stdout=f)\n",
        "##scrambles EXIF data, does not copy exif data"
      ],
      "metadata": {
        "id": "nAKdXDT9z_zx"
      },
      "execution_count": 250,
      "outputs": []
    },
    {
      "cell_type": "code",
      "source": [
        "#This is hacky, but writes a little shell script to run command line exiftool exif copies from old to new files\n",
        "originals = sorted(glob.glob(f\"/content/drive/MyDrive/FloodNet Challenge @ EARTHVISION 2021 - Track 1/**/**/**/**/*.jpg\"))\n",
        "copies = sorted(glob.glob(f\"/content/drive/MyDrive/FloodNet_T1_copy/**/**/**/**/*.jpg\"))\n",
        "program = ['exiftool -TagsFromFile \\''  + a  +'\\' \\'' + b +'\\'' for a,b in zip(originals, copies)]"
      ],
      "metadata": {
        "id": "cHfeyr0c9B9X"
      },
      "execution_count": 289,
      "outputs": []
    },
    {
      "cell_type": "code",
      "source": [
        "#!rm /content/drive/MyDrive/exif.sh\n",
        "!touch /content/drive/MyDrive/exif.sh\n",
        "output_file = open('//content/drive/MyDrive/exif.sh', 'w')\n",
        "for cmd in program:\n",
        "    output_file.write(cmd + '\\n')"
      ],
      "metadata": {
        "id": "V-TDfar4-310"
      },
      "execution_count": 290,
      "outputs": []
    },
    {
      "cell_type": "code",
      "source": [
        "#cat /content/drive/MyDrive/exif.sh"
      ],
      "metadata": {
        "id": "0VTk2fwYC_KU"
      },
      "execution_count": null,
      "outputs": []
    },
    {
      "cell_type": "code",
      "source": [
        "!sh /content/drive/MyDrive/exif.sh"
      ],
      "metadata": {
        "id": "8tM75nCfCPHM"
      },
      "execution_count": null,
      "outputs": []
    },
    {
      "cell_type": "code",
      "source": [
        "#DOES NOT WORK\n",
        "#flood_paths = glob.glob(f\"//content/drive/MyDrive/FloodNet Challenge @ EARTHVISION 2021 - Track 1/Train/Labeled/Flooded/image/*.jpg\")\n",
        "#for image_path in flood_paths[1:5]:\n",
        "#  out_paths = '//content/drive/MyDrive/FloodNet_T1_copy/Train/Labeled/Flooded/image/'+ os.path.basename(image_path)\n",
        "#  !exiftool -TagsFromFile image_path out_paths"
      ],
      "metadata": {
        "colab": {
          "base_uri": "https://localhost:8080/"
        },
        "id": "WMpwZHfn2DXw",
        "outputId": "225a0ee3-1c48-4409-fa30-1b80c0d0fd53"
      },
      "execution_count": 254,
      "outputs": [
        {
          "output_type": "stream",
          "name": "stdout",
          "text": [
            "File 'image_path' does not exist for -tagsFromFile option\n",
            "File 'image_path' does not exist for -tagsFromFile option\n",
            "File 'image_path' does not exist for -tagsFromFile option\n",
            "File 'image_path' does not exist for -tagsFromFile option\n"
          ]
        }
      ]
    },
    {
      "cell_type": "code",
      "source": [
        "#this works for one image\n",
        "#!exiftool -TagsFromFile '/content/drive/MyDrive/FloodNet Challenge @ EARTHVISION 2021 - Track 1/Train/Labeled/Flooded/image/7202.jpg' '/content/drive/MyDrive/FloodNet_T1_copy/Train/Labeled/Flooded/image/7202.jpg'"
      ],
      "metadata": {
        "colab": {
          "base_uri": "https://localhost:8080/"
        },
        "id": "B-65LYgnrfBc",
        "outputId": "038a4b74-eb88-462c-d5e1-799371cf2204"
      },
      "execution_count": 287,
      "outputs": [
        {
          "output_type": "stream",
          "name": "stdout",
          "text": [
            "Warning: [minor] Possibly incorrect maker notes offsets (fix by 1415?) - /content/drive/MyDrive/FloodNet Challenge @ EARTHVISION 2021 - Track 1/Train/Labeled/Flooded/image/7202.jpg\n",
            "    1 image files updated\n"
          ]
        }
      ]
    },
    {
      "cell_type": "markdown",
      "source": [
        "## Step 2: train CNN for semantic segmentation using labelled imagery\n",
        "\n",
        "# [Following this tutorial](https://towardsdatascience.com/train-neural-net-for-semantic-segmentation-with-pytorch-in-50-lines-of-code-830c71a6544f)\n"
      ],
      "metadata": {
        "id": "y2sYqMz1YYXP"
      }
    },
    {
      "cell_type": "code",
      "source": [
        "!pip install opencv-python"
      ],
      "metadata": {
        "id": "56QVrms3YRlJ"
      },
      "execution_count": null,
      "outputs": []
    },
    {
      "cell_type": "code",
      "source": [
        "import os\n",
        "import numpy as np\n",
        "import cv2\n",
        "import torchvision.models.segmentation\n",
        "import torch\n",
        "import torchvision.transforms as tf\n",
        "\n",
        "Learning_Rate=1e-5\n",
        "width=height=800 # image width and height\n",
        "batchSize=3"
      ],
      "metadata": {
        "id": "BPvkXFDyY-KR"
      },
      "execution_count": null,
      "outputs": []
    },
    {
      "cell_type": "markdown",
      "source": [
        "## Step 3: generate semantic segmentation labels for all images in the dataset"
      ],
      "metadata": {
        "id": "BRi2NC_6G6s5"
      }
    },
    {
      "cell_type": "markdown",
      "source": [
        "## Step 4: Stack the labels as a fourth band on the original images\n",
        "**bold text**"
      ],
      "metadata": {
        "id": "xzsGLp9WHJRx"
      }
    },
    {
      "cell_type": "code",
      "source": [
        "!git clone --recursive https://github.com/mapillary/OpenSfM"
      ],
      "metadata": {
        "colab": {
          "base_uri": "https://localhost:8080/"
        },
        "id": "EHNPiHUsLNoj",
        "outputId": "ff127b3c-5ac5-418a-fbcd-3640dad7f764"
      },
      "execution_count": 7,
      "outputs": [
        {
          "output_type": "stream",
          "name": "stdout",
          "text": [
            "Cloning into 'OpenSfM'...\n",
            "remote: Enumerating objects: 26735, done.\u001b[K\n",
            "remote: Counting objects: 100% (2501/2501), done.\u001b[K\n",
            "remote: Compressing objects: 100% (850/850), done.\u001b[K\n",
            "remote: Total 26735 (delta 1704), reused 2298 (delta 1568), pack-reused 24234\u001b[K\n",
            "Receiving objects: 100% (26735/26735), 90.11 MiB | 30.14 MiB/s, done.\n",
            "Resolving deltas: 100% (18324/18324), done.\n",
            "Submodule 'opensfm/src/third_party/pybind11' (https://github.com/pybind/pybind11.git) registered for path 'opensfm/src/third_party/pybind11'\n",
            "Cloning into '/content/OpenSfM/opensfm/src/third_party/pybind11'...\n",
            "remote: Enumerating objects: 24615, done.        \n",
            "remote: Counting objects: 100% (170/170), done.        \n",
            "remote: Compressing objects: 100% (101/101), done.        \n",
            "remote: Total 24615 (delta 78), reused 126 (delta 59), pack-reused 24445        \n",
            "Receiving objects: 100% (24615/24615), 9.21 MiB | 20.08 MiB/s, done.\n",
            "Resolving deltas: 100% (17232/17232), done.\n",
            "Submodule path 'opensfm/src/third_party/pybind11': checked out '9a19306fbf30642ca331d0ec88e7da54a96860f9'\n",
            "Submodule 'tools/clang' (https://github.com/wjakob/clang-cindex-python3) registered for path 'opensfm/src/third_party/pybind11/tools/clang'\n",
            "Cloning into '/content/OpenSfM/opensfm/src/third_party/pybind11/tools/clang'...\n",
            "remote: Enumerating objects: 368, done.        \n",
            "remote: Counting objects: 100% (13/13), done.        \n",
            "remote: Compressing objects: 100% (10/10), done.        \n",
            "remote: Total 368 (delta 3), reused 10 (delta 3), pack-reused 355        \n",
            "Receiving objects: 100% (368/368), 159.34 KiB | 2.15 MiB/s, done.\n",
            "Resolving deltas: 100% (154/154), done.\n",
            "Submodule path 'opensfm/src/third_party/pybind11/tools/clang': checked out '6a00cbc4a9b8e68b71caf7f774b3f9c753ae84d5'\n"
          ]
        }
      ]
    },
    {
      "cell_type": "code",
      "source": [
        "os.chdir('OpenSfM')"
      ],
      "metadata": {
        "id": "pC-UOAARzZdH"
      },
      "execution_count": 8,
      "outputs": []
    },
    {
      "cell_type": "code",
      "source": [
        "!git submodule update --init --recursive"
      ],
      "metadata": {
        "id": "-BpTf6CbzfCT"
      },
      "execution_count": 14,
      "outputs": []
    },
    {
      "cell_type": "code",
      "source": [
        "os.listdir()\n",
        "!pip install -r requirements.txt"
      ],
      "metadata": {
        "colab": {
          "base_uri": "https://localhost:8080/",
          "height": 1000
        },
        "id": "iunfNIH9zupD",
        "outputId": "7ffb0683-bc47-449e-8f57-c3c9a24e1dfd"
      },
      "execution_count": 9,
      "outputs": [
        {
          "output_type": "stream",
          "name": "stdout",
          "text": [
            "Looking in indexes: https://pypi.org/simple, https://us-python.pkg.dev/colab-wheels/public/simple/\n",
            "Ignoring opencv-python: markers 'sys_platform == \"win32\"' don't match your environment\n",
            "Collecting cloudpickle==0.4.0\n",
            "  Using cached cloudpickle-0.4.0-py2.py3-none-any.whl (15 kB)\n",
            "Requirement already satisfied: exifread==2.1.2 in /usr/local/lib/python3.7/dist-packages (from -r requirements.txt (line 2)) (2.1.2)\n",
            "Requirement already satisfied: flask==2.1.2 in /usr/local/lib/python3.7/dist-packages (from -r requirements.txt (line 3)) (2.1.2)\n",
            "Requirement already satisfied: fpdf2==2.4.6 in /usr/local/lib/python3.7/dist-packages (from -r requirements.txt (line 4)) (2.4.6)\n",
            "Requirement already satisfied: joblib==0.14.1 in /usr/local/lib/python3.7/dist-packages (from -r requirements.txt (line 5)) (0.14.1)\n",
            "Requirement already satisfied: matplotlib in /usr/local/lib/python3.7/dist-packages (from -r requirements.txt (line 6)) (3.2.2)\n",
            "Requirement already satisfied: networkx==2.5 in /usr/local/lib/python3.7/dist-packages (from -r requirements.txt (line 7)) (2.5)\n",
            "Requirement already satisfied: numpy in /usr/local/lib/python3.7/dist-packages (from -r requirements.txt (line 8)) (1.21.6)\n",
            "Requirement already satisfied: Pillow>=8.1.1 in /usr/local/lib/python3.7/dist-packages (from -r requirements.txt (line 9)) (9.2.0)\n",
            "Requirement already satisfied: pyproj>=1.9.5.1 in /usr/local/lib/python3.7/dist-packages (from -r requirements.txt (line 10)) (3.2.1)\n",
            "Requirement already satisfied: pytest==3.0.7 in /usr/local/lib/python3.7/dist-packages (from -r requirements.txt (line 11)) (3.0.7)\n",
            "Requirement already satisfied: python-dateutil>=2.7 in /usr/local/lib/python3.7/dist-packages (from -r requirements.txt (line 12)) (2.8.2)\n",
            "Requirement already satisfied: pyyaml==5.4 in /usr/local/lib/python3.7/dist-packages (from -r requirements.txt (line 13)) (5.4)\n",
            "Requirement already satisfied: scipy in /usr/local/lib/python3.7/dist-packages (from -r requirements.txt (line 14)) (1.7.3)\n",
            "Requirement already satisfied: Sphinx==4.2.0 in /usr/local/lib/python3.7/dist-packages (from -r requirements.txt (line 15)) (4.2.0)\n",
            "Requirement already satisfied: six in /usr/local/lib/python3.7/dist-packages (from -r requirements.txt (line 16)) (1.15.0)\n",
            "Requirement already satisfied: xmltodict==0.10.2 in /usr/local/lib/python3.7/dist-packages (from -r requirements.txt (line 17)) (0.10.2)\n",
            "Requirement already satisfied: wheel in /usr/local/lib/python3.7/dist-packages (from -r requirements.txt (line 18)) (0.37.1)\n",
            "Requirement already satisfied: opencv-python in /usr/local/lib/python3.7/dist-packages (from -r requirements.txt (line 20)) (4.6.0.66)\n",
            "Requirement already satisfied: click>=8.0 in /usr/local/lib/python3.7/dist-packages (from flask==2.1.2->-r requirements.txt (line 3)) (8.1.3)\n",
            "Requirement already satisfied: Jinja2>=3.0 in /usr/local/lib/python3.7/dist-packages (from flask==2.1.2->-r requirements.txt (line 3)) (3.1.2)\n",
            "Requirement already satisfied: importlib-metadata>=3.6.0 in /usr/local/lib/python3.7/dist-packages (from flask==2.1.2->-r requirements.txt (line 3)) (4.12.0)\n",
            "Requirement already satisfied: Werkzeug>=2.0 in /usr/local/lib/python3.7/dist-packages (from flask==2.1.2->-r requirements.txt (line 3)) (2.2.2)\n",
            "Requirement already satisfied: itsdangerous>=2.0 in /usr/local/lib/python3.7/dist-packages (from flask==2.1.2->-r requirements.txt (line 3)) (2.1.2)\n",
            "Requirement already satisfied: decorator>=4.3.0 in /usr/local/lib/python3.7/dist-packages (from networkx==2.5->-r requirements.txt (line 7)) (4.4.2)\n",
            "Requirement already satisfied: setuptools in /usr/local/lib/python3.7/dist-packages (from pytest==3.0.7->-r requirements.txt (line 11)) (57.4.0)\n",
            "Requirement already satisfied: py>=1.4.29 in /usr/local/lib/python3.7/dist-packages (from pytest==3.0.7->-r requirements.txt (line 11)) (1.11.0)\n",
            "Requirement already satisfied: Pygments>=2.0 in /usr/local/lib/python3.7/dist-packages (from Sphinx==4.2.0->-r requirements.txt (line 15)) (2.6.1)\n",
            "Requirement already satisfied: sphinxcontrib-qthelp in /usr/local/lib/python3.7/dist-packages (from Sphinx==4.2.0->-r requirements.txt (line 15)) (1.0.3)\n",
            "Requirement already satisfied: sphinxcontrib-devhelp in /usr/local/lib/python3.7/dist-packages (from Sphinx==4.2.0->-r requirements.txt (line 15)) (1.0.2)\n",
            "Requirement already satisfied: docutils<0.18,>=0.14 in /usr/local/lib/python3.7/dist-packages (from Sphinx==4.2.0->-r requirements.txt (line 15)) (0.17.1)\n",
            "Requirement already satisfied: babel>=1.3 in /usr/local/lib/python3.7/dist-packages (from Sphinx==4.2.0->-r requirements.txt (line 15)) (2.10.3)\n",
            "Requirement already satisfied: requests>=2.5.0 in /usr/local/lib/python3.7/dist-packages (from Sphinx==4.2.0->-r requirements.txt (line 15)) (2.23.0)\n",
            "Requirement already satisfied: packaging in /usr/local/lib/python3.7/dist-packages (from Sphinx==4.2.0->-r requirements.txt (line 15)) (21.3)\n",
            "Requirement already satisfied: imagesize in /usr/local/lib/python3.7/dist-packages (from Sphinx==4.2.0->-r requirements.txt (line 15)) (1.4.1)\n",
            "Requirement already satisfied: sphinxcontrib-serializinghtml>=1.1.5 in /usr/local/lib/python3.7/dist-packages (from Sphinx==4.2.0->-r requirements.txt (line 15)) (1.1.5)\n",
            "Requirement already satisfied: sphinxcontrib-jsmath in /usr/local/lib/python3.7/dist-packages (from Sphinx==4.2.0->-r requirements.txt (line 15)) (1.0.1)\n",
            "Requirement already satisfied: sphinxcontrib-applehelp in /usr/local/lib/python3.7/dist-packages (from Sphinx==4.2.0->-r requirements.txt (line 15)) (1.0.2)\n",
            "Requirement already satisfied: sphinxcontrib-htmlhelp>=2.0.0 in /usr/local/lib/python3.7/dist-packages (from Sphinx==4.2.0->-r requirements.txt (line 15)) (2.0.0)\n",
            "Requirement already satisfied: alabaster<0.8,>=0.7 in /usr/local/lib/python3.7/dist-packages (from Sphinx==4.2.0->-r requirements.txt (line 15)) (0.7.12)\n",
            "Requirement already satisfied: snowballstemmer>=1.1 in /usr/local/lib/python3.7/dist-packages (from Sphinx==4.2.0->-r requirements.txt (line 15)) (2.2.0)\n",
            "Requirement already satisfied: certifi in /usr/local/lib/python3.7/dist-packages (from pyproj>=1.9.5.1->-r requirements.txt (line 10)) (2022.6.15)\n",
            "Requirement already satisfied: pytz>=2015.7 in /usr/local/lib/python3.7/dist-packages (from babel>=1.3->Sphinx==4.2.0->-r requirements.txt (line 15)) (2022.2.1)\n",
            "Requirement already satisfied: zipp>=0.5 in /usr/local/lib/python3.7/dist-packages (from importlib-metadata>=3.6.0->flask==2.1.2->-r requirements.txt (line 3)) (3.8.1)\n",
            "Requirement already satisfied: typing-extensions>=3.6.4 in /usr/local/lib/python3.7/dist-packages (from importlib-metadata>=3.6.0->flask==2.1.2->-r requirements.txt (line 3)) (4.1.1)\n",
            "Requirement already satisfied: MarkupSafe>=2.0 in /usr/local/lib/python3.7/dist-packages (from Jinja2>=3.0->flask==2.1.2->-r requirements.txt (line 3)) (2.1.1)\n",
            "Requirement already satisfied: idna<3,>=2.5 in /usr/local/lib/python3.7/dist-packages (from requests>=2.5.0->Sphinx==4.2.0->-r requirements.txt (line 15)) (2.10)\n",
            "Requirement already satisfied: urllib3!=1.25.0,!=1.25.1,<1.26,>=1.21.1 in /usr/local/lib/python3.7/dist-packages (from requests>=2.5.0->Sphinx==4.2.0->-r requirements.txt (line 15)) (1.24.3)\n",
            "Collecting chardet<4,>=3.0.2\n",
            "  Using cached chardet-3.0.4-py2.py3-none-any.whl (133 kB)\n",
            "Requirement already satisfied: kiwisolver>=1.0.1 in /usr/local/lib/python3.7/dist-packages (from matplotlib->-r requirements.txt (line 6)) (1.4.4)\n",
            "Requirement already satisfied: cycler>=0.10 in /usr/local/lib/python3.7/dist-packages (from matplotlib->-r requirements.txt (line 6)) (0.11.0)\n",
            "Requirement already satisfied: pyparsing!=2.0.4,!=2.1.2,!=2.1.6,>=2.0.1 in /usr/local/lib/python3.7/dist-packages (from matplotlib->-r requirements.txt (line 6)) (3.0.9)\n",
            "Installing collected packages: chardet, cloudpickle\n",
            "  Attempting uninstall: chardet\n",
            "    Found existing installation: chardet 5.0.0\n",
            "    Uninstalling chardet-5.0.0:\n",
            "      Successfully uninstalled chardet-5.0.0\n",
            "  Attempting uninstall: cloudpickle\n",
            "    Found existing installation: cloudpickle 2.2.0\n",
            "    Uninstalling cloudpickle-2.2.0:\n",
            "      Successfully uninstalled cloudpickle-2.2.0\n",
            "\u001b[31mERROR: pip's dependency resolver does not currently take into account all the packages that are installed. This behaviour is the source of the following dependency conflicts.\n",
            "tensorflow-probability 0.16.0 requires cloudpickle>=1.3, but you have cloudpickle 0.4.0 which is incompatible.\n",
            "gym 0.25.2 requires cloudpickle>=1.2.0, but you have cloudpickle 0.4.0 which is incompatible.\n",
            "distributed 2022.2.0 requires cloudpickle>=1.5.0, but you have cloudpickle 0.4.0 which is incompatible.\n",
            "dask 2022.2.0 requires cloudpickle>=1.1.1, but you have cloudpickle 0.4.0 which is incompatible.\n",
            "clmutils 0.1.5 requires chardet<5.0.0,>=4.0.0, but you have chardet 3.0.4 which is incompatible.\u001b[0m\n",
            "Successfully installed chardet-3.0.4 cloudpickle-0.4.0\n"
          ]
        },
        {
          "output_type": "display_data",
          "data": {
            "application/vnd.colab-display-data+json": {
              "pip_warning": {
                "packages": [
                  "chardet",
                  "cloudpickle"
                ]
              }
            }
          },
          "metadata": {}
        }
      ]
    },
    {
      "cell_type": "code",
      "source": [
        "!pip install -U cloudpickle"
      ],
      "metadata": {
        "colab": {
          "base_uri": "https://localhost:8080/"
        },
        "id": "R2qb7m6Y0Js1",
        "outputId": "74bacb7f-2880-47bb-ba8a-e9baad37613c"
      },
      "execution_count": 21,
      "outputs": [
        {
          "output_type": "stream",
          "name": "stdout",
          "text": [
            "Looking in indexes: https://pypi.org/simple, https://us-python.pkg.dev/colab-wheels/public/simple/\n",
            "Requirement already satisfied: cloudpickle in /usr/local/lib/python3.7/dist-packages (0.4.0)\n",
            "Collecting cloudpickle\n",
            "  Downloading cloudpickle-2.2.0-py3-none-any.whl (25 kB)\n",
            "Installing collected packages: cloudpickle\n",
            "  Attempting uninstall: cloudpickle\n",
            "    Found existing installation: cloudpickle 0.4.0\n",
            "    Uninstalling cloudpickle-0.4.0:\n",
            "      Successfully uninstalled cloudpickle-0.4.0\n",
            "Successfully installed cloudpickle-2.2.0\n"
          ]
        }
      ]
    },
    {
      "cell_type": "code",
      "source": [
        "!pip install -U chardet"
      ],
      "metadata": {
        "colab": {
          "base_uri": "https://localhost:8080/",
          "height": 366
        },
        "id": "9ewehwDg0gup",
        "outputId": "5a805166-5371-4abc-d6ef-fe921e2aa3e8"
      },
      "execution_count": 22,
      "outputs": [
        {
          "output_type": "stream",
          "name": "stdout",
          "text": [
            "Looking in indexes: https://pypi.org/simple, https://us-python.pkg.dev/colab-wheels/public/simple/\n",
            "Requirement already satisfied: chardet in /usr/local/lib/python3.7/dist-packages (3.0.4)\n",
            "Collecting chardet\n",
            "  Downloading chardet-5.0.0-py3-none-any.whl (193 kB)\n",
            "\u001b[K     |████████████████████████████████| 193 kB 5.1 MB/s \n",
            "\u001b[?25hInstalling collected packages: chardet\n",
            "  Attempting uninstall: chardet\n",
            "    Found existing installation: chardet 3.0.4\n",
            "    Uninstalling chardet-3.0.4:\n",
            "      Successfully uninstalled chardet-3.0.4\n",
            "\u001b[31mERROR: pip's dependency resolver does not currently take into account all the packages that are installed. This behaviour is the source of the following dependency conflicts.\n",
            "requests 2.23.0 requires chardet<4,>=3.0.2, but you have chardet 5.0.0 which is incompatible.\n",
            "clmutils 0.1.5 requires chardet<5.0.0,>=4.0.0, but you have chardet 5.0.0 which is incompatible.\u001b[0m\n",
            "Successfully installed chardet-5.0.0\n"
          ]
        },
        {
          "output_type": "display_data",
          "data": {
            "application/vnd.colab-display-data+json": {
              "pip_warning": {
                "packages": [
                  "chardet"
                ]
              }
            }
          },
          "metadata": {}
        }
      ]
    },
    {
      "cell_type": "code",
      "source": [
        "!pip list"
      ],
      "metadata": {
        "colab": {
          "base_uri": "https://localhost:8080/"
        },
        "id": "zrZmWKoB0gh3",
        "outputId": "6e6d3246-c4f5-4604-e777-fedb06ab45c2"
      },
      "execution_count": 10,
      "outputs": [
        {
          "output_type": "stream",
          "name": "stdout",
          "text": [
            "Package                       Version\n",
            "----------------------------- ----------------------------\n",
            "absl-py                       1.2.0\n",
            "aeppl                         0.0.33\n",
            "aesara                        2.7.9\n",
            "aiohttp                       3.8.1\n",
            "aiosignal                     1.2.0\n",
            "alabaster                     0.7.12\n",
            "albumentations                1.2.1\n",
            "altair                        4.2.0\n",
            "appdirs                       1.4.4\n",
            "arviz                         0.12.1\n",
            "astor                         0.8.1\n",
            "astropy                       4.3.1\n",
            "astunparse                    1.6.3\n",
            "async-timeout                 4.0.2\n",
            "asynctest                     0.13.0\n",
            "atari-py                      0.2.9\n",
            "atomicwrites                  1.4.1\n",
            "attrs                         22.1.0\n",
            "audioread                     3.0.0\n",
            "autograd                      1.4\n",
            "Babel                         2.10.3\n",
            "backcall                      0.2.0\n",
            "beautifulsoup4                4.6.3\n",
            "bleach                        5.0.1\n",
            "blis                          0.7.8\n",
            "bokeh                         2.3.3\n",
            "branca                        0.5.0\n",
            "bs4                           0.0.1\n",
            "CacheControl                  0.12.11\n",
            "cached-property               1.5.2\n",
            "cachetools                    4.2.4\n",
            "catalogue                     2.0.8\n",
            "certifi                       2022.6.15\n",
            "cffi                          1.15.1\n",
            "cftime                        1.6.1\n",
            "chardet                       3.0.4\n",
            "charset-normalizer            2.1.1\n",
            "click                         8.1.3\n",
            "clikit                        0.6.2\n",
            "clmutils                      0.1.5\n",
            "cloudpickle                   0.4.0\n",
            "cmake                         3.22.6\n",
            "cmdstanpy                     1.0.7\n",
            "colorcet                      3.0.0\n",
            "colorlover                    0.3.0\n",
            "community                     1.0.0b1\n",
            "cons                          0.4.5\n",
            "contextlib2                   0.5.5\n",
            "convertdate                   2.4.0\n",
            "crashtest                     0.3.1\n",
            "crcmod                        1.7\n",
            "cufflinks                     0.17.3\n",
            "cvxopt                        1.3.0\n",
            "cvxpy                         1.2.1\n",
            "cycler                        0.11.0\n",
            "cymem                         2.0.6\n",
            "Cython                        0.29.32\n",
            "daft                          0.0.4\n",
            "dask                          2022.2.0\n",
            "datascience                   0.17.5\n",
            "debugpy                       1.0.0\n",
            "decorator                     4.4.2\n",
            "defusedxml                    0.7.1\n",
            "descartes                     1.1.0\n",
            "dill                          0.3.5.1\n",
            "distributed                   2022.2.0\n",
            "dlib                          19.24.0\n",
            "dm-tree                       0.1.7\n",
            "docutils                      0.17.1\n",
            "dopamine-rl                   1.0.5\n",
            "earthengine-api               0.1.322\n",
            "easydict                      1.9\n",
            "ecos                          2.0.10\n",
            "editdistance                  0.5.3\n",
            "en-core-web-sm                3.4.0\n",
            "entrypoints                   0.4\n",
            "ephem                         4.1.3\n",
            "et-xmlfile                    1.1.0\n",
            "etils                         0.7.1\n",
            "etuples                       0.3.5\n",
            "ExifRead                      2.1.2\n",
            "fa2                           0.3.5\n",
            "fastai                        2.7.9\n",
            "fastcore                      1.5.22\n",
            "fastdownload                  0.0.7\n",
            "fastdtw                       0.3.4\n",
            "fastjsonschema                2.16.1\n",
            "fastprogress                  1.0.3\n",
            "fastrlock                     0.8\n",
            "feather-format                0.4.1\n",
            "filelock                      3.8.0\n",
            "firebase-admin                4.4.0\n",
            "fix-yahoo-finance             0.0.22\n",
            "Flask                         2.1.2\n",
            "flatbuffers                   2.0.7\n",
            "folium                        0.12.1.post1\n",
            "fpdf2                         2.4.6\n",
            "frozenlist                    1.3.1\n",
            "fsspec                        2022.8.1\n",
            "future                        0.16.0\n",
            "gast                          0.5.3\n",
            "GDAL                          2.2.2\n",
            "gdown                         4.4.0\n",
            "gensim                        3.6.0\n",
            "geographiclib                 1.52\n",
            "geopy                         1.17.0\n",
            "gin-config                    0.5.0\n",
            "glob2                         0.7\n",
            "google                        2.0.3\n",
            "google-api-core               1.31.6\n",
            "google-api-python-client      1.12.11\n",
            "google-auth                   1.35.0\n",
            "google-auth-httplib2          0.0.4\n",
            "google-auth-oauthlib          0.4.6\n",
            "google-cloud-bigquery         1.21.0\n",
            "google-cloud-bigquery-storage 1.1.2\n",
            "google-cloud-core             1.0.3\n",
            "google-cloud-datastore        1.8.0\n",
            "google-cloud-firestore        1.7.0\n",
            "google-cloud-language         1.2.0\n",
            "google-cloud-storage          1.18.1\n",
            "google-cloud-translate        1.5.0\n",
            "google-colab                  1.0.0\n",
            "google-pasta                  0.2.0\n",
            "google-resumable-media        0.4.1\n",
            "googleapis-common-protos      1.56.4\n",
            "googledrivedownloader         0.4\n",
            "graphviz                      0.10.1\n",
            "greenlet                      1.1.3\n",
            "grpcio                        1.47.0\n",
            "gspread                       3.4.2\n",
            "gspread-dataframe             3.0.8\n",
            "gym                           0.25.2\n",
            "gym-notices                   0.0.8\n",
            "h5py                          3.1.0\n",
            "HeapDict                      1.0.1\n",
            "hijri-converter               2.2.4\n",
            "holidays                      0.15\n",
            "holoviews                     1.14.9\n",
            "html5lib                      1.0.1\n",
            "httpimport                    0.5.18\n",
            "httplib2                      0.17.4\n",
            "httplib2shim                  0.0.3\n",
            "httpstan                      4.6.1\n",
            "humanize                      0.5.1\n",
            "hyperopt                      0.1.2\n",
            "idna                          2.10\n",
            "imageio                       2.9.0\n",
            "imagesize                     1.4.1\n",
            "imbalanced-learn              0.8.1\n",
            "imblearn                      0.0\n",
            "imgaug                        0.4.0\n",
            "importlib-metadata            4.12.0\n",
            "importlib-resources           5.9.0\n",
            "imutils                       0.5.4\n",
            "inflect                       2.1.0\n",
            "intel-openmp                  2022.1.0\n",
            "intervaltree                  2.1.0\n",
            "ipykernel                     5.3.4\n",
            "ipython                       7.9.0\n",
            "ipython-genutils              0.2.0\n",
            "ipython-sql                   0.3.9\n",
            "ipywidgets                    7.7.1\n",
            "itsdangerous                  2.1.2\n",
            "jax                           0.3.17\n",
            "jaxlib                        0.3.15+cuda11.cudnn805\n",
            "jieba                         0.42.1\n",
            "Jinja2                        3.1.2\n",
            "joblib                        0.14.1\n",
            "jpeg4py                       0.1.4\n",
            "jsonschema                    4.3.3\n",
            "jupyter-client                6.1.12\n",
            "jupyter-console               6.1.0\n",
            "jupyter-core                  4.11.1\n",
            "jupyterlab-widgets            3.0.2\n",
            "kaggle                        1.5.12\n",
            "kapre                         0.3.7\n",
            "keras                         2.8.0\n",
            "Keras-Preprocessing           1.1.2\n",
            "keras-vis                     0.4.1\n",
            "kiwisolver                    1.4.4\n",
            "korean-lunar-calendar         0.2.1\n",
            "langcodes                     3.3.0\n",
            "libclang                      14.0.6\n",
            "librosa                       0.8.1\n",
            "lightgbm                      2.2.3\n",
            "llvmlite                      0.39.0\n",
            "lmdb                          0.99\n",
            "locket                        1.0.0\n",
            "logical-unification           0.4.5\n",
            "logzero                       1.7.0\n",
            "LunarCalendar                 0.0.9\n",
            "lxml                          4.9.1\n",
            "Markdown                      3.4.1\n",
            "MarkupSafe                    2.1.1\n",
            "marshmallow                   3.17.1\n",
            "matplotlib                    3.2.2\n",
            "matplotlib-venn               0.11.7\n",
            "miniKanren                    1.0.3\n",
            "missingno                     0.5.1\n",
            "mistune                       0.8.4\n",
            "mizani                        0.7.3\n",
            "mkl                           2019.0\n",
            "mlxtend                       0.14.0\n",
            "more-itertools                8.14.0\n",
            "moviepy                       0.2.3.5\n",
            "mpmath                        1.2.1\n",
            "msgpack                       1.0.4\n",
            "multidict                     6.0.2\n",
            "multipledispatch              0.6.0\n",
            "multitasking                  0.0.11\n",
            "murmurhash                    1.0.8\n",
            "music21                       5.5.0\n",
            "natsort                       5.5.0\n",
            "nbconvert                     5.6.1\n",
            "nbformat                      5.4.0\n",
            "netCDF4                       1.6.0\n",
            "networkx                      2.5\n",
            "nibabel                       3.0.2\n",
            "nltk                          3.7\n",
            "notebook                      5.3.1\n",
            "numba                         0.56.0\n",
            "numexpr                       2.8.3\n",
            "numpy                         1.21.6\n",
            "oauth2client                  4.1.3\n",
            "oauthlib                      3.2.0\n",
            "okgrade                       0.4.3\n",
            "opencv-contrib-python         4.6.0.66\n",
            "opencv-python                 4.6.0.66\n",
            "opencv-python-headless        4.6.0.66\n",
            "openpyxl                      3.0.10\n",
            "opt-einsum                    3.3.0\n",
            "osqp                          0.6.2.post0\n",
            "packaging                     21.3\n",
            "palettable                    3.3.0\n",
            "pandas                        1.3.5\n",
            "pandas-datareader             0.9.0\n",
            "pandas-gbq                    0.13.3\n",
            "pandas-profiling              1.4.1\n",
            "pandocfilters                 1.5.0\n",
            "panel                         0.12.1\n",
            "param                         1.12.2\n",
            "parso                         0.8.3\n",
            "partd                         1.3.0\n",
            "pastel                        0.2.1\n",
            "pathlib                       1.0.1\n",
            "pathy                         0.6.2\n",
            "patsy                         0.5.2\n",
            "pep517                        0.13.0\n",
            "pexpect                       4.8.0\n",
            "pickleshare                   0.7.5\n",
            "Pillow                        9.2.0\n",
            "pip                           21.1.3\n",
            "pip-tools                     6.2.0\n",
            "plotly                        5.5.0\n",
            "plotnine                      0.8.0\n",
            "pluggy                        0.7.1\n",
            "pooch                         1.6.0\n",
            "portpicker                    1.3.9\n",
            "prefetch-generator            1.0.1\n",
            "preshed                       3.0.7\n",
            "prettytable                   3.4.0\n",
            "progressbar2                  3.38.0\n",
            "promise                       2.3\n",
            "prompt-toolkit                2.0.10\n",
            "prophet                       1.1\n",
            "protobuf                      3.17.3\n",
            "psutil                        5.9.2\n",
            "psycopg2                      2.9.3\n",
            "ptyprocess                    0.7.0\n",
            "py                            1.11.0\n",
            "pyarrow                       6.0.1\n",
            "pyasn1                        0.4.8\n",
            "pyasn1-modules                0.2.8\n",
            "pycocotools                   2.0.4\n",
            "pycparser                     2.21\n",
            "pyct                          0.4.8\n",
            "pydantic                      1.9.2\n",
            "pydata-google-auth            1.4.0\n",
            "pydot                         1.3.0\n",
            "pydot-ng                      2.0.0\n",
            "pydotplus                     2.0.2\n",
            "PyDrive                       1.3.1\n",
            "pyemd                         0.5.1\n",
            "pyerfa                        2.0.0.1\n",
            "Pygments                      2.6.1\n",
            "pygobject                     3.26.1\n",
            "pylev                         1.4.0\n",
            "pymc                          4.1.4\n",
            "PyMeeus                       0.5.11\n",
            "pymongo                       4.2.0\n",
            "pymystem3                     0.2.0\n",
            "PyOpenGL                      3.1.6\n",
            "pyparsing                     3.0.9\n",
            "pyproj                        3.2.1\n",
            "pyrsistent                    0.18.1\n",
            "pysimdjson                    3.2.0\n",
            "pysndfile                     1.3.8\n",
            "PySocks                       1.7.1\n",
            "pystan                        3.3.0\n",
            "pytest                        3.0.7\n",
            "python-apt                    0.0.0\n",
            "python-chess                  0.23.11\n",
            "python-dateutil               2.8.2\n",
            "python-dotenv                 0.21.0\n",
            "python-louvain                0.16\n",
            "python-slugify                6.1.2\n",
            "python-utils                  3.3.3\n",
            "pytz                          2022.2.1\n",
            "pyviz-comms                   2.2.1\n",
            "PyWavelets                    1.3.0\n",
            "PyYAML                        5.4\n",
            "pyzmq                         23.2.1\n",
            "qdldl                         0.1.5.post2\n",
            "qudida                        0.0.4\n",
            "regex                         2022.6.2\n",
            "requests                      2.23.0\n",
            "requests-oauthlib             1.3.1\n",
            "resampy                       0.4.0\n",
            "rpy2                          3.4.5\n",
            "rsa                           4.9\n",
            "scikit-image                  0.18.3\n",
            "scikit-learn                  1.0.2\n",
            "scipy                         1.7.3\n",
            "screen-resolution-extra       0.0.0\n",
            "scs                           3.2.0\n",
            "seaborn                       0.11.2\n",
            "Send2Trash                    1.8.0\n",
            "setuptools                    57.4.0\n",
            "setuptools-git                1.2\n",
            "Shapely                       1.8.4\n",
            "six                           1.15.0\n",
            "sklearn-pandas                1.8.0\n",
            "smart-open                    5.2.1\n",
            "snowballstemmer               2.2.0\n",
            "sortedcontainers              2.4.0\n",
            "SoundFile                     0.10.3.post1\n",
            "spacy                         3.4.1\n",
            "spacy-legacy                  3.0.10\n",
            "spacy-loggers                 1.0.3\n",
            "Sphinx                        4.2.0\n",
            "sphinxcontrib-applehelp       1.0.2\n",
            "sphinxcontrib-devhelp         1.0.2\n",
            "sphinxcontrib-htmlhelp        2.0.0\n",
            "sphinxcontrib-jsmath          1.0.1\n",
            "sphinxcontrib-qthelp          1.0.3\n",
            "sphinxcontrib-serializinghtml 1.1.5\n",
            "sphinxcontrib-websupport      1.2.4\n",
            "SQLAlchemy                    1.4.40\n",
            "sqlparse                      0.4.2\n",
            "srsly                         2.4.4\n",
            "statsmodels                   0.12.2\n",
            "sympy                         1.7.1\n",
            "tables                        3.7.0\n",
            "tabulate                      0.8.10\n",
            "tblib                         1.7.0\n",
            "tenacity                      8.0.1\n",
            "tensorboard                   2.8.0\n",
            "tensorboard-data-server       0.6.1\n",
            "tensorboard-plugin-wit        1.8.1\n",
            "tensorflow                    2.8.2+zzzcolab20220719082949\n",
            "tensorflow-datasets           4.6.0\n",
            "tensorflow-estimator          2.8.0\n",
            "tensorflow-gcs-config         2.8.0\n",
            "tensorflow-hub                0.12.0\n",
            "tensorflow-io-gcs-filesystem  0.26.0\n",
            "tensorflow-metadata           1.10.0\n",
            "tensorflow-probability        0.16.0\n",
            "termcolor                     1.1.0\n",
            "terminado                     0.13.3\n",
            "testpath                      0.6.0\n",
            "text-unidecode                1.3\n",
            "textblob                      0.15.3\n",
            "thinc                         8.1.0\n",
            "threadpoolctl                 3.1.0\n",
            "tifffile                      2021.11.2\n",
            "toml                          0.10.2\n",
            "tomli                         2.0.1\n",
            "toolz                         0.12.0\n",
            "torch                         1.12.1+cu113\n",
            "torchaudio                    0.12.1+cu113\n",
            "torchsummary                  1.5.1\n",
            "torchtext                     0.13.1\n",
            "torchvision                   0.13.1+cu113\n",
            "tornado                       5.1.1\n",
            "tqdm                          4.64.0\n",
            "traitlets                     5.1.1\n",
            "tweepy                        3.10.0\n",
            "typeguard                     2.7.1\n",
            "typer                         0.4.2\n",
            "typing-extensions             4.1.1\n",
            "tzlocal                       1.5.1\n",
            "ujson                         5.4.0\n",
            "uritemplate                   3.0.1\n",
            "urllib3                       1.24.3\n",
            "vega-datasets                 0.9.0\n",
            "wasabi                        0.10.1\n",
            "wcwidth                       0.2.5\n",
            "webargs                       8.2.0\n",
            "webencodings                  0.5.1\n",
            "Werkzeug                      2.2.2\n",
            "wheel                         0.37.1\n",
            "widgetsnbextension            3.6.1\n",
            "wordcloud                     1.8.2.2\n",
            "wrapt                         1.14.1\n",
            "xarray                        0.20.2\n",
            "xarray-einstats               0.2.2\n",
            "xgboost                       0.90\n",
            "xkit                          0.0.0\n",
            "xlrd                          1.1.0\n",
            "xlwt                          1.3.0\n",
            "xmltodict                     0.10.2\n",
            "yarl                          1.8.1\n",
            "yellowbrick                   1.5\n",
            "zict                          2.2.0\n",
            "zipp                          3.8.1\n"
          ]
        }
      ]
    },
    {
      "cell_type": "code",
      "source": [],
      "metadata": {
        "id": "JgwSjOS30gQ7"
      },
      "execution_count": null,
      "outputs": []
    },
    {
      "cell_type": "markdown",
      "source": [
        "## Step 5: Use Opepn SfM to generate a georferenced orthomosaic of drone imagery"
      ],
      "metadata": {
        "id": "T5oOQlfCHMHU"
      }
    },
    {
      "cell_type": "markdown",
      "source": [
        "## Step 6: Use orthomosaic coordinates to generate a flood innundation map"
      ],
      "metadata": {
        "id": "GGBDAAp6HXka"
      }
    },
    {
      "cell_type": "code",
      "source": [
        "!apt-get install cmake\n",
        "!apt-get install libgoogle-glog-dev libgflags-dev\n",
        "!apt-get install libatlas-base-dev\n",
        "!apt-get install libeigen3-dev\n",
        "!apt-get install libsuitesparse-dev"
      ],
      "metadata": {
        "colab": {
          "base_uri": "https://localhost:8080/"
        },
        "id": "4iKV75RuHVKj",
        "outputId": "ca09fea5-b1e2-42bc-8531-25d1920ef370"
      },
      "execution_count": 12,
      "outputs": [
        {
          "output_type": "stream",
          "name": "stdout",
          "text": [
            "Reading package lists... Done\n",
            "Building dependency tree       \n",
            "Reading state information... Done\n",
            "cmake is already the newest version (3.10.2-1ubuntu2.18.04.2).\n",
            "The following package was automatically installed and is no longer required:\n",
            "  libnvidia-common-460\n",
            "Use 'apt autoremove' to remove it.\n",
            "0 upgraded, 0 newly installed, 0 to remove and 20 not upgraded.\n",
            "Reading package lists... Done\n",
            "Building dependency tree       \n",
            "Reading state information... Done\n",
            "The following package was automatically installed and is no longer required:\n",
            "  libnvidia-common-460\n",
            "Use 'apt autoremove' to remove it.\n",
            "The following additional packages will be installed:\n",
            "  libgflags2.2 libgoogle-glog0v5\n",
            "The following NEW packages will be installed:\n",
            "  libgflags-dev libgflags2.2 libgoogle-glog-dev libgoogle-glog0v5\n",
            "0 upgraded, 4 newly installed, 0 to remove and 20 not upgraded.\n",
            "Need to get 283 kB of archives.\n",
            "After this operation, 1,418 kB of additional disk space will be used.\n",
            "Get:1 http://archive.ubuntu.com/ubuntu bionic/universe amd64 libgflags2.2 amd64 2.2.1-1 [72.4 kB]\n",
            "Get:2 http://archive.ubuntu.com/ubuntu bionic/universe amd64 libgflags-dev amd64 2.2.1-1 [86.1 kB]\n",
            "Get:3 http://archive.ubuntu.com/ubuntu bionic/universe amd64 libgoogle-glog0v5 amd64 0.3.5-1 [50.5 kB]\n",
            "Get:4 http://archive.ubuntu.com/ubuntu bionic/universe amd64 libgoogle-glog-dev amd64 0.3.5-1 [73.8 kB]\n",
            "Fetched 283 kB in 0s (969 kB/s)\n",
            "Selecting previously unselected package libgflags2.2.\n",
            "(Reading database ... 155685 files and directories currently installed.)\n",
            "Preparing to unpack .../libgflags2.2_2.2.1-1_amd64.deb ...\n",
            "Unpacking libgflags2.2 (2.2.1-1) ...\n",
            "Selecting previously unselected package libgflags-dev.\n",
            "Preparing to unpack .../libgflags-dev_2.2.1-1_amd64.deb ...\n",
            "Unpacking libgflags-dev (2.2.1-1) ...\n",
            "Selecting previously unselected package libgoogle-glog0v5.\n",
            "Preparing to unpack .../libgoogle-glog0v5_0.3.5-1_amd64.deb ...\n",
            "Unpacking libgoogle-glog0v5 (0.3.5-1) ...\n",
            "Selecting previously unselected package libgoogle-glog-dev.\n",
            "Preparing to unpack .../libgoogle-glog-dev_0.3.5-1_amd64.deb ...\n",
            "Unpacking libgoogle-glog-dev (0.3.5-1) ...\n",
            "Setting up libgflags2.2 (2.2.1-1) ...\n",
            "Setting up libgflags-dev (2.2.1-1) ...\n",
            "Setting up libgoogle-glog0v5 (0.3.5-1) ...\n",
            "Setting up libgoogle-glog-dev (0.3.5-1) ...\n",
            "Processing triggers for libc-bin (2.27-3ubuntu1.5) ...\n",
            "Reading package lists... Done\n",
            "Building dependency tree       \n",
            "Reading state information... Done\n",
            "libatlas-base-dev is already the newest version (3.10.3-5).\n",
            "The following package was automatically installed and is no longer required:\n",
            "  libnvidia-common-460\n",
            "Use 'apt autoremove' to remove it.\n",
            "0 upgraded, 0 newly installed, 0 to remove and 20 not upgraded.\n",
            "Reading package lists... Done\n",
            "Building dependency tree       \n",
            "Reading state information... Done\n",
            "The following package was automatically installed and is no longer required:\n",
            "  libnvidia-common-460\n",
            "Use 'apt autoremove' to remove it.\n",
            "Suggested packages:\n",
            "  libeigen3-doc libmrpt-dev\n",
            "The following NEW packages will be installed:\n",
            "  libeigen3-dev\n",
            "0 upgraded, 1 newly installed, 0 to remove and 20 not upgraded.\n",
            "Need to get 810 kB of archives.\n",
            "After this operation, 7,128 kB of additional disk space will be used.\n",
            "Get:1 http://archive.ubuntu.com/ubuntu bionic/universe amd64 libeigen3-dev all 3.3.4-4 [810 kB]\n",
            "Fetched 810 kB in 0s (2,387 kB/s)\n",
            "Selecting previously unselected package libeigen3-dev.\n",
            "(Reading database ... 155728 files and directories currently installed.)\n",
            "Preparing to unpack .../libeigen3-dev_3.3.4-4_all.deb ...\n",
            "Unpacking libeigen3-dev (3.3.4-4) ...\n",
            "Setting up libeigen3-dev (3.3.4-4) ...\n",
            "Reading package lists... Done\n",
            "Building dependency tree       \n",
            "Reading state information... Done\n",
            "The following package was automatically installed and is no longer required:\n",
            "  libnvidia-common-460\n",
            "Use 'apt autoremove' to remove it.\n",
            "The following additional packages will be installed:\n",
            "  libamd2 libbtf1 libcamd2 libccolamd2 libcholmod3 libcolamd2 libcxsparse3\n",
            "  libgraphblas1 libklu1 libldl2 libmetis5 librbio2 libspqr2\n",
            "  libsuitesparseconfig5 libumfpack5\n",
            "The following NEW packages will be installed:\n",
            "  libamd2 libbtf1 libcamd2 libccolamd2 libcholmod3 libcolamd2 libcxsparse3\n",
            "  libgraphblas1 libklu1 libldl2 libmetis5 librbio2 libspqr2 libsuitesparse-dev\n",
            "  libsuitesparseconfig5 libumfpack5\n",
            "0 upgraded, 16 newly installed, 0 to remove and 20 not upgraded.\n",
            "Need to get 2,646 kB of archives.\n",
            "After this operation, 19.8 MB of additional disk space will be used.\n",
            "Get:1 http://archive.ubuntu.com/ubuntu bionic/main amd64 libsuitesparseconfig5 amd64 1:5.1.2-2 [9,044 B]\n",
            "Get:2 http://archive.ubuntu.com/ubuntu bionic/main amd64 libamd2 amd64 1:5.1.2-2 [19.5 kB]\n",
            "Get:3 http://archive.ubuntu.com/ubuntu bionic/main amd64 libbtf1 amd64 1:5.1.2-2 [10.6 kB]\n",
            "Get:4 http://archive.ubuntu.com/ubuntu bionic/main amd64 libcamd2 amd64 1:5.1.2-2 [20.9 kB]\n",
            "Get:5 http://archive.ubuntu.com/ubuntu bionic/main amd64 libccolamd2 amd64 1:5.1.2-2 [21.7 kB]\n",
            "Get:6 http://archive.ubuntu.com/ubuntu bionic/main amd64 libcolamd2 amd64 1:5.1.2-2 [16.2 kB]\n",
            "Get:7 http://archive.ubuntu.com/ubuntu bionic/main amd64 libmetis5 amd64 5.1.0.dfsg-5 [169 kB]\n",
            "Get:8 http://archive.ubuntu.com/ubuntu bionic/main amd64 libcholmod3 amd64 1:5.1.2-2 [300 kB]\n",
            "Get:9 http://archive.ubuntu.com/ubuntu bionic/main amd64 libcxsparse3 amd64 1:5.1.2-2 [63.9 kB]\n",
            "Get:10 http://archive.ubuntu.com/ubuntu bionic/main amd64 libgraphblas1 amd64 1:5.1.2-2 [384 kB]\n",
            "Get:11 http://archive.ubuntu.com/ubuntu bionic/main amd64 libklu1 amd64 1:5.1.2-2 [69.3 kB]\n",
            "Get:12 http://archive.ubuntu.com/ubuntu bionic/main amd64 libldl2 amd64 1:5.1.2-2 [10.3 kB]\n",
            "Get:13 http://archive.ubuntu.com/ubuntu bionic/main amd64 librbio2 amd64 1:5.1.2-2 [24.0 kB]\n",
            "Get:14 http://archive.ubuntu.com/ubuntu bionic/main amd64 libspqr2 amd64 1:5.1.2-2 [64.2 kB]\n",
            "Get:15 http://archive.ubuntu.com/ubuntu bionic/main amd64 libumfpack5 amd64 1:5.1.2-2 [229 kB]\n",
            "Get:16 http://archive.ubuntu.com/ubuntu bionic/main amd64 libsuitesparse-dev amd64 1:5.1.2-2 [1,235 kB]\n",
            "Fetched 2,646 kB in 0s (6,378 kB/s)\n",
            "Selecting previously unselected package libsuitesparseconfig5:amd64.\n",
            "(Reading database ... 156287 files and directories currently installed.)\n",
            "Preparing to unpack .../00-libsuitesparseconfig5_1%3a5.1.2-2_amd64.deb ...\n",
            "Unpacking libsuitesparseconfig5:amd64 (1:5.1.2-2) ...\n",
            "Selecting previously unselected package libamd2:amd64.\n",
            "Preparing to unpack .../01-libamd2_1%3a5.1.2-2_amd64.deb ...\n",
            "Unpacking libamd2:amd64 (1:5.1.2-2) ...\n",
            "Selecting previously unselected package libbtf1:amd64.\n",
            "Preparing to unpack .../02-libbtf1_1%3a5.1.2-2_amd64.deb ...\n",
            "Unpacking libbtf1:amd64 (1:5.1.2-2) ...\n",
            "Selecting previously unselected package libcamd2:amd64.\n",
            "Preparing to unpack .../03-libcamd2_1%3a5.1.2-2_amd64.deb ...\n",
            "Unpacking libcamd2:amd64 (1:5.1.2-2) ...\n",
            "Selecting previously unselected package libccolamd2:amd64.\n",
            "Preparing to unpack .../04-libccolamd2_1%3a5.1.2-2_amd64.deb ...\n",
            "Unpacking libccolamd2:amd64 (1:5.1.2-2) ...\n",
            "Selecting previously unselected package libcolamd2:amd64.\n",
            "Preparing to unpack .../05-libcolamd2_1%3a5.1.2-2_amd64.deb ...\n",
            "Unpacking libcolamd2:amd64 (1:5.1.2-2) ...\n",
            "Selecting previously unselected package libmetis5:amd64.\n",
            "Preparing to unpack .../06-libmetis5_5.1.0.dfsg-5_amd64.deb ...\n",
            "Unpacking libmetis5:amd64 (5.1.0.dfsg-5) ...\n",
            "Selecting previously unselected package libcholmod3:amd64.\n",
            "Preparing to unpack .../07-libcholmod3_1%3a5.1.2-2_amd64.deb ...\n",
            "Unpacking libcholmod3:amd64 (1:5.1.2-2) ...\n",
            "Selecting previously unselected package libcxsparse3:amd64.\n",
            "Preparing to unpack .../08-libcxsparse3_1%3a5.1.2-2_amd64.deb ...\n",
            "Unpacking libcxsparse3:amd64 (1:5.1.2-2) ...\n",
            "Selecting previously unselected package libgraphblas1:amd64.\n",
            "Preparing to unpack .../09-libgraphblas1_1%3a5.1.2-2_amd64.deb ...\n",
            "Unpacking libgraphblas1:amd64 (1:5.1.2-2) ...\n",
            "Selecting previously unselected package libklu1:amd64.\n",
            "Preparing to unpack .../10-libklu1_1%3a5.1.2-2_amd64.deb ...\n",
            "Unpacking libklu1:amd64 (1:5.1.2-2) ...\n",
            "Selecting previously unselected package libldl2:amd64.\n",
            "Preparing to unpack .../11-libldl2_1%3a5.1.2-2_amd64.deb ...\n",
            "Unpacking libldl2:amd64 (1:5.1.2-2) ...\n",
            "Selecting previously unselected package librbio2:amd64.\n",
            "Preparing to unpack .../12-librbio2_1%3a5.1.2-2_amd64.deb ...\n",
            "Unpacking librbio2:amd64 (1:5.1.2-2) ...\n",
            "Selecting previously unselected package libspqr2:amd64.\n",
            "Preparing to unpack .../13-libspqr2_1%3a5.1.2-2_amd64.deb ...\n",
            "Unpacking libspqr2:amd64 (1:5.1.2-2) ...\n",
            "Selecting previously unselected package libumfpack5:amd64.\n",
            "Preparing to unpack .../14-libumfpack5_1%3a5.1.2-2_amd64.deb ...\n",
            "Unpacking libumfpack5:amd64 (1:5.1.2-2) ...\n",
            "Selecting previously unselected package libsuitesparse-dev:amd64.\n",
            "Preparing to unpack .../15-libsuitesparse-dev_1%3a5.1.2-2_amd64.deb ...\n",
            "Unpacking libsuitesparse-dev:amd64 (1:5.1.2-2) ...\n",
            "Setting up libbtf1:amd64 (1:5.1.2-2) ...\n",
            "Setting up libldl2:amd64 (1:5.1.2-2) ...\n",
            "Setting up libcxsparse3:amd64 (1:5.1.2-2) ...\n",
            "Setting up libgraphblas1:amd64 (1:5.1.2-2) ...\n",
            "Setting up libsuitesparseconfig5:amd64 (1:5.1.2-2) ...\n",
            "Setting up libmetis5:amd64 (5.1.0.dfsg-5) ...\n",
            "Setting up libcolamd2:amd64 (1:5.1.2-2) ...\n",
            "Setting up libccolamd2:amd64 (1:5.1.2-2) ...\n",
            "Setting up librbio2:amd64 (1:5.1.2-2) ...\n",
            "Setting up libcamd2:amd64 (1:5.1.2-2) ...\n",
            "Setting up libamd2:amd64 (1:5.1.2-2) ...\n",
            "Setting up libklu1:amd64 (1:5.1.2-2) ...\n",
            "Setting up libcholmod3:amd64 (1:5.1.2-2) ...\n",
            "Setting up libspqr2:amd64 (1:5.1.2-2) ...\n",
            "Setting up libumfpack5:amd64 (1:5.1.2-2) ...\n",
            "Setting up libsuitesparse-dev:amd64 (1:5.1.2-2) ...\n",
            "Processing triggers for libc-bin (2.27-3ubuntu1.5) ...\n"
          ]
        }
      ]
    },
    {
      "cell_type": "code",
      "source": [
        "!wget http://ceres-solver.org/ceres-solver-2.1.0.tar.gz"
      ],
      "metadata": {
        "colab": {
          "base_uri": "https://localhost:8080/"
        },
        "id": "O-GKpTtr3MrM",
        "outputId": "2133ac91-906b-4dea-fab6-94964e064be2"
      },
      "execution_count": 16,
      "outputs": [
        {
          "output_type": "stream",
          "name": "stdout",
          "text": [
            "--2022-09-12 13:27:46--  http://ceres-solver.org/ceres-solver-2.1.0.tar.gz\n",
            "Resolving ceres-solver.org (ceres-solver.org)... 66.175.223.105\n",
            "Connecting to ceres-solver.org (ceres-solver.org)|66.175.223.105|:80... connected.\n",
            "HTTP request sent, awaiting response... 200 OK\n",
            "Length: 3802187 (3.6M) [application/octet-stream]\n",
            "Saving to: ‘ceres-solver-2.1.0.tar.gz’\n",
            "\n",
            "ceres-solver-2.1.0. 100%[===================>]   3.63M  10.4MB/s    in 0.3s    \n",
            "\n",
            "2022-09-12 13:27:47 (10.4 MB/s) - ‘ceres-solver-2.1.0.tar.gz’ saved [3802187/3802187]\n",
            "\n"
          ]
        }
      ]
    },
    {
      "cell_type": "code",
      "source": [
        "!tar zxf ceres-solver-2.1.0.tar.gz"
      ],
      "metadata": {
        "id": "LURruFsn4wI_"
      },
      "execution_count": 32,
      "outputs": []
    },
    {
      "cell_type": "code",
      "source": [],
      "metadata": {
        "colab": {
          "base_uri": "https://localhost:8080/"
        },
        "id": "0OtPSJBU5Bl4",
        "outputId": "544158d4-8154-43bb-e8c1-c8462f7c662b"
      },
      "execution_count": 45,
      "outputs": [
        {
          "output_type": "stream",
          "name": "stdout",
          "text": [
            "\u001b[0m\u001b[01;34mbin\u001b[0m/                       CMakeCache.txt       \u001b[01;34minclude\u001b[0m/\n",
            "\u001b[01;34mceres-bin\u001b[0m/                 \u001b[01;34mCMakeFiles\u001b[0m/          \u001b[01;34minternal\u001b[0m/\n",
            "CeresConfig-install.cmake  cmake_install.cmake  \u001b[01;34mlib\u001b[0m/\n",
            "CeresConfigVersion.cmake   CTestTestfile.cmake  Makefile\n",
            "\u001b[01;34mceres-solver-2.1.0\u001b[0m/        \u001b[01;34mdrive\u001b[0m/               \u001b[01;34mOpenSfM\u001b[0m/\n",
            "ceres-solver-2.1.0.tar.gz  \u001b[01;34mexamples\u001b[0m/            \u001b[01;34msample_data\u001b[0m/\n",
            "\u001b[01;34mcmake\u001b[0m/                     \u001b[01;34mFloodNet\u001b[0m/\n"
          ]
        }
      ]
    },
    {
      "cell_type": "code",
      "source": [
        "cp -r ceres-solver-2.1.0/ ceres-bin/\n"
      ],
      "metadata": {
        "id": "Pq-BHMNJ51iA"
      },
      "execution_count": 47,
      "outputs": []
    },
    {
      "cell_type": "code",
      "source": [
        "!cmake ceres-solver-2.1.0/"
      ],
      "metadata": {
        "colab": {
          "base_uri": "https://localhost:8080/"
        },
        "id": "T4WsCLj85-4I",
        "outputId": "8e29e4d9-fd2b-45ec-bc15-57dc7d36244b"
      },
      "execution_count": 37,
      "outputs": [
        {
          "output_type": "stream",
          "name": "stdout",
          "text": [
            "-- The C compiler identification is GNU 7.5.0\n",
            "-- The CXX compiler identification is GNU 7.5.0\n",
            "-- Detecting C compiler ABI info\n",
            "-- Detecting C compiler ABI info - done\n",
            "-- Check for working C compiler: /usr/bin/cc - skipped\n",
            "-- Detecting C compile features\n",
            "-- Detecting C compile features - done\n",
            "-- Detecting CXX compiler ABI info\n",
            "-- Detecting CXX compiler ABI info - done\n",
            "-- Check for working CXX compiler: /usr/bin/c++ - skipped\n",
            "-- Detecting CXX compile features\n",
            "-- Detecting CXX compile features - done\n",
            "-- Performing Test HAVE_BIGOBJ\n",
            "-- Performing Test HAVE_BIGOBJ - Failed\n",
            "-- Looking for pow in m\n",
            "-- Looking for pow in m - found\n",
            "-- Detected Ceres version: 2.1.0 from /content/ceres-solver-2.1.0/include/ceres/version.h\n",
            "\u001b[0m-- Detected available Ceres threading models: [CXX_THREADS, OPENMP, NO_THREADS]\u001b[0m\n",
            "\u001b[0m-- Found Eigen version 3.3.4: /usr/lib/cmake/eigen3\u001b[0m\n",
            "\u001b[0m-- Enabling use of Eigen as a sparse linear algebra library.\u001b[0m\n",
            "-- Looking for pthread.h\n",
            "-- Looking for pthread.h - found\n",
            "-- Performing Test CMAKE_HAVE_LIBC_PTHREAD\n",
            "-- Performing Test CMAKE_HAVE_LIBC_PTHREAD - Failed\n",
            "-- Looking for pthread_create in pthreads\n",
            "-- Looking for pthread_create in pthreads - not found\n",
            "-- Looking for pthread_create in pthread\n",
            "-- Looking for pthread_create in pthread - found\n",
            "-- Found Threads: TRUE  \n",
            "\u001b[0m-- Found CUDA version 11.1: /usr/local/cuda/lib64/libcudart_static.a;Threads::Threads;dl;/usr/lib/x86_64-linux-gnu/librt.so;/usr/local/cuda/lib64/libcusolver.so;/usr/local/cuda/lib64/libcusparse.so\u001b[0m\n",
            "\u001b[0m-- Found LAPACK library: /usr/local/lib/libmkl_intel_lp64.so;/usr/local/lib/libmkl_intel_thread.so;/usr/local/lib/libmkl_core.so;/usr/local/lib/libiomp5.so;-lpthread;-lm;-ldl;-lpthread;-lm;-ldl\u001b[0m\n",
            "-- Found CHOLMOD headers in: /usr/include/suitesparse\n",
            "-- Found CHOLMOD library: /usr/lib/x86_64-linux-gnu/libcholmod.so\n",
            "-- Found SPQR headers in: /usr/include/suitesparse\n",
            "-- Found SPQR library: /usr/lib/x86_64-linux-gnu/libspqr.so\n",
            "-- Found Config headers in: /usr/include/suitesparse\n",
            "-- Found Config library: /usr/lib/x86_64-linux-gnu/libsuitesparseconfig.so\n",
            "-- Found AMD headers in: /usr/include/suitesparse\n",
            "-- Found AMD library: /usr/lib/x86_64-linux-gnu/libamd.so\n",
            "-- Found CAMD headers in: /usr/include/suitesparse\n",
            "-- Found CAMD library: /usr/lib/x86_64-linux-gnu/libcamd.so\n",
            "-- Found CCOLAMD headers in: /usr/include/suitesparse\n",
            "-- Found CCOLAMD library: /usr/lib/x86_64-linux-gnu/libccolamd.so\n",
            "-- Found COLAMD headers in: /usr/include/suitesparse\n",
            "-- Found COLAMD library: /usr/lib/x86_64-linux-gnu/libcolamd.so\n",
            "-- Found Intel Thread Building Blocks (TBB) library (2017.0 / 9107) include location: /usr/include. Assuming SuiteSparseQR was compiled with TBB.\n",
            "-- Looking for shm_open in rt\n",
            "-- Looking for shm_open in rt - found\n",
            "-- Adding librt to SuiteSparse_config libraries (required on Linux & Unix [not OSX] if SuiteSparse is compiled with timing).\n",
            "-- Could NOT find METIS (missing: METIS_INCLUDE_DIR METIS_LIBRARY) \n",
            "-- Found SuiteSparse: /usr/include/suitesparse (found suitable version \"5.1.2\", minimum required is \"4.0\") found components: CHOLMOD SPQR Config AMD CAMD CCOLAMD COLAMD \n",
            "\u001b[0m-- Found SuiteSparse 5.1.2, building with SuiteSparse.\u001b[0m\n",
            "-- Found CXSparse: /usr/include/suitesparse (found version \"3.1.9\") \n",
            "\u001b[0m-- Found CXSparse version: 3.1.9, building with CXSparse.\u001b[0m\n",
            "\u001b[0m-- Building without Apple's Accelerate sparse support.\u001b[0m\n",
            "\u001b[0m-- Found Google Flags (gflags) version 2.2.1: /usr/lib/x86_64-linux-gnu/cmake/gflags\u001b[0m\n",
            "-- No preference for use of exported glog CMake configuration set, and no hints for include/library directories provided. Defaulting to preferring an installed/exported glog CMake configuration if available.\n",
            "-- Failed to find installed glog CMake configuration, searching for glog build directories exported with CMake.\n",
            "-- Failed to find an installed/exported CMake configuration for glog, will perform search for installed glog components.\n",
            "-- Found Glog: /usr/include  \n",
            "\u001b[0m-- Found Google Log (glog). Assuming glog was built with gflags support as gflags was found. This will make gflags a public dependency of Ceres.\u001b[0m\n",
            "\u001b[0m-- Using Ceres threading model: CXX_THREADS\u001b[0m\n",
            "\u001b[0m-- Failed to find Google benchmark library, disabling build of benchmarks.\u001b[0m\n",
            "\u001b[0m-- Building Ceres as a static library.\u001b[0m\n",
            "\u001b[0m-- No build type specified; defaulting to CMAKE_BUILD_TYPE=Release.\u001b[0m\n",
            "-- Performing Test CHECK_CXX_FLAG_Wmissing_declarations\n",
            "-- Performing Test CHECK_CXX_FLAG_Wmissing_declarations - Success\n",
            "-- Performing Test CHECK_CXX_FLAG_Wno_unknown_pragmas\n",
            "-- Performing Test CHECK_CXX_FLAG_Wno_unknown_pragmas - Success\n",
            "-- Performing Test CHECK_CXX_FLAG_Wno_sign_compare\n",
            "-- Performing Test CHECK_CXX_FLAG_Wno_sign_compare - Success\n",
            "-- Performing Test CHECK_CXX_FLAG_Wno_unused_parameter\n",
            "-- Performing Test CHECK_CXX_FLAG_Wno_unused_parameter - Success\n",
            "-- Performing Test CHECK_CXX_FLAG_Wno_missing_field_initializers\n",
            "-- Performing Test CHECK_CXX_FLAG_Wno_missing_field_initializers - Success\n",
            "-- Creating configured Ceres config.h output directory: /content/include/ceres/internal\n",
            "-- Enabling CERES_USE_EIGEN_SPARSE in Ceres config.h\n",
            "-- Enabling CERES_NO_ACCELERATE_SPARSE in Ceres config.h\n",
            "-- Enabling CERES_USE_CXX_THREADS in Ceres config.h\n",
            "-- Performing Test CHECK_CXX_FLAG_Wno_missing_declarations\n",
            "-- Performing Test CHECK_CXX_FLAG_Wno_missing_declarations - Success\n",
            "-- Performing Test COMPILER_HAS_HIDDEN_VISIBILITY\n",
            "-- Performing Test COMPILER_HAS_HIDDEN_VISIBILITY - Success\n",
            "-- Performing Test COMPILER_HAS_HIDDEN_INLINE_VISIBILITY\n",
            "-- Performing Test COMPILER_HAS_HIDDEN_INLINE_VISIBILITY - Success\n",
            "-- Performing Test COMPILER_HAS_DEPRECATED_ATTR\n",
            "-- Performing Test COMPILER_HAS_DEPRECATED_ATTR - Success\n",
            "\u001b[0m-- Build the examples.\u001b[0m\n",
            "-- Configuring done\n",
            "-- Generating done\n",
            "-- Build files have been written to: /content\n"
          ]
        }
      ]
    },
    {
      "cell_type": "code",
      "source": [
        "cd ceres-bin/"
      ],
      "metadata": {
        "colab": {
          "base_uri": "https://localhost:8080/"
        },
        "id": "LntPph_36E6M",
        "outputId": "3a5cd901-24ad-47a7-ba93-9e242f6b39a7"
      },
      "execution_count": 38,
      "outputs": [
        {
          "output_type": "stream",
          "name": "stdout",
          "text": [
            "/content/ceres-bin\n"
          ]
        }
      ]
    },
    {
      "cell_type": "code",
      "source": [
        "ls"
      ],
      "metadata": {
        "id": "f53aPnNh5v1y"
      },
      "execution_count": 41,
      "outputs": []
    },
    {
      "cell_type": "code",
      "source": [],
      "metadata": {
        "id": "RTkPmbhm6SO5"
      },
      "execution_count": null,
      "outputs": []
    },
    {
      "cell_type": "markdown",
      "source": [
        "## Step 7: Transfer labels to satellite data"
      ],
      "metadata": {
        "id": "yBfYVoQdHf47"
      }
    },
    {
      "cell_type": "code",
      "source": [],
      "metadata": {
        "id": "1VvQHwqSHLY5"
      },
      "execution_count": null,
      "outputs": []
    },
    {
      "cell_type": "code",
      "source": [
        "## Step 4: Stack the labels as a fourth band on the original images"
      ],
      "metadata": {
        "id": "NXqZ9g4ZHASR"
      },
      "execution_count": 293,
      "outputs": []
    }
  ]
}